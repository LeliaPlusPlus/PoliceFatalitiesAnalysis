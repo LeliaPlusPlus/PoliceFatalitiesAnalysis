{
 "cells": [
  {
   "cell_type": "markdown",
   "metadata": {},
   "source": [
    "# Preliminary Data Analysis and Visualization"
   ]
  },
  {
   "cell_type": "code",
   "execution_count": 63,
   "metadata": {},
   "outputs": [],
   "source": [
    "import pandas as pd\n",
    "import matplotlib.pyplot as plt\n",
    "import numpy as np"
   ]
  },
  {
   "cell_type": "markdown",
   "metadata": {},
   "source": [
    "## Washington Post Data Analysis and Visualization\n",
    "Police fatality data collected by the Washington Post can be found at https://github.com/washingtonpost/data-police-shootings"
   ]
  },
  {
   "cell_type": "code",
   "execution_count": 64,
   "metadata": {},
   "outputs": [],
   "source": [
    "WP = pd.read_csv(\"Data/fatal-police-shootings-data.csv\")"
   ]
  },
  {
   "cell_type": "code",
   "execution_count": 15,
   "metadata": {},
   "outputs": [
    {
     "data": {
      "text/plain": [
       "75586"
      ]
     },
     "execution_count": 15,
     "metadata": {},
     "output_type": "execute_result"
    }
   ],
   "source": [
    "WP.size # number of observations in the dataset"
   ]
  },
  {
   "cell_type": "code",
   "execution_count": 16,
   "metadata": {},
   "outputs": [
    {
     "data": {
      "text/plain": [
       "Index(['id', 'name', 'date', 'manner_of_death', 'armed', 'age', 'gender',\n",
       "       'race', 'city', 'state', 'signs_of_mental_illness', 'threat_level',\n",
       "       'flee', 'body_camera'],\n",
       "      dtype='object')"
      ]
     },
     "execution_count": 16,
     "metadata": {},
     "output_type": "execute_result"
    }
   ],
   "source": [
    "WP.columns # names of the columns/labels in the dataframe"
   ]
  },
  {
   "cell_type": "code",
   "execution_count": 17,
   "metadata": {},
   "outputs": [
    {
     "data": {
      "text/plain": [
       "id                           int64\n",
       "name                        object\n",
       "date                        object\n",
       "manner_of_death             object\n",
       "armed                       object\n",
       "age                        float64\n",
       "gender                      object\n",
       "race                        object\n",
       "city                        object\n",
       "state                       object\n",
       "signs_of_mental_illness       bool\n",
       "threat_level                object\n",
       "flee                        object\n",
       "body_camera                   bool\n",
       "dtype: object"
      ]
     },
     "execution_count": 17,
     "metadata": {},
     "output_type": "execute_result"
    }
   ],
   "source": [
    "WP.dtypes # types of the labels in the dataframe"
   ]
  },
  {
   "cell_type": "code",
   "execution_count": 18,
   "metadata": {},
   "outputs": [
    {
     "data": {
      "text/html": [
       "<div>\n",
       "<style scoped>\n",
       "    .dataframe tbody tr th:only-of-type {\n",
       "        vertical-align: middle;\n",
       "    }\n",
       "\n",
       "    .dataframe tbody tr th {\n",
       "        vertical-align: top;\n",
       "    }\n",
       "\n",
       "    .dataframe thead th {\n",
       "        text-align: right;\n",
       "    }\n",
       "</style>\n",
       "<table border=\"1\" class=\"dataframe\">\n",
       "  <thead>\n",
       "    <tr style=\"text-align: right;\">\n",
       "      <th></th>\n",
       "      <th>id</th>\n",
       "      <th>name</th>\n",
       "      <th>date</th>\n",
       "      <th>manner_of_death</th>\n",
       "      <th>armed</th>\n",
       "      <th>age</th>\n",
       "      <th>gender</th>\n",
       "      <th>race</th>\n",
       "      <th>city</th>\n",
       "      <th>state</th>\n",
       "      <th>signs_of_mental_illness</th>\n",
       "      <th>threat_level</th>\n",
       "      <th>flee</th>\n",
       "      <th>body_camera</th>\n",
       "    </tr>\n",
       "  </thead>\n",
       "  <tbody>\n",
       "    <tr>\n",
       "      <th>0</th>\n",
       "      <td>3</td>\n",
       "      <td>Tim Elliot</td>\n",
       "      <td>2015-01-02</td>\n",
       "      <td>shot</td>\n",
       "      <td>gun</td>\n",
       "      <td>53.0</td>\n",
       "      <td>M</td>\n",
       "      <td>A</td>\n",
       "      <td>Shelton</td>\n",
       "      <td>WA</td>\n",
       "      <td>True</td>\n",
       "      <td>attack</td>\n",
       "      <td>Not fleeing</td>\n",
       "      <td>False</td>\n",
       "    </tr>\n",
       "    <tr>\n",
       "      <th>1</th>\n",
       "      <td>4</td>\n",
       "      <td>Lewis Lee Lembke</td>\n",
       "      <td>2015-01-02</td>\n",
       "      <td>shot</td>\n",
       "      <td>gun</td>\n",
       "      <td>47.0</td>\n",
       "      <td>M</td>\n",
       "      <td>W</td>\n",
       "      <td>Aloha</td>\n",
       "      <td>OR</td>\n",
       "      <td>False</td>\n",
       "      <td>attack</td>\n",
       "      <td>Not fleeing</td>\n",
       "      <td>False</td>\n",
       "    </tr>\n",
       "    <tr>\n",
       "      <th>2</th>\n",
       "      <td>5</td>\n",
       "      <td>John Paul Quintero</td>\n",
       "      <td>2015-01-03</td>\n",
       "      <td>shot and Tasered</td>\n",
       "      <td>unarmed</td>\n",
       "      <td>23.0</td>\n",
       "      <td>M</td>\n",
       "      <td>H</td>\n",
       "      <td>Wichita</td>\n",
       "      <td>KS</td>\n",
       "      <td>False</td>\n",
       "      <td>other</td>\n",
       "      <td>Not fleeing</td>\n",
       "      <td>False</td>\n",
       "    </tr>\n",
       "    <tr>\n",
       "      <th>3</th>\n",
       "      <td>8</td>\n",
       "      <td>Matthew Hoffman</td>\n",
       "      <td>2015-01-04</td>\n",
       "      <td>shot</td>\n",
       "      <td>toy weapon</td>\n",
       "      <td>32.0</td>\n",
       "      <td>M</td>\n",
       "      <td>W</td>\n",
       "      <td>San Francisco</td>\n",
       "      <td>CA</td>\n",
       "      <td>True</td>\n",
       "      <td>attack</td>\n",
       "      <td>Not fleeing</td>\n",
       "      <td>False</td>\n",
       "    </tr>\n",
       "    <tr>\n",
       "      <th>4</th>\n",
       "      <td>9</td>\n",
       "      <td>Michael Rodriguez</td>\n",
       "      <td>2015-01-04</td>\n",
       "      <td>shot</td>\n",
       "      <td>nail gun</td>\n",
       "      <td>39.0</td>\n",
       "      <td>M</td>\n",
       "      <td>H</td>\n",
       "      <td>Evans</td>\n",
       "      <td>CO</td>\n",
       "      <td>False</td>\n",
       "      <td>attack</td>\n",
       "      <td>Not fleeing</td>\n",
       "      <td>False</td>\n",
       "    </tr>\n",
       "    <tr>\n",
       "      <th>5</th>\n",
       "      <td>11</td>\n",
       "      <td>Kenneth Joe Brown</td>\n",
       "      <td>2015-01-04</td>\n",
       "      <td>shot</td>\n",
       "      <td>gun</td>\n",
       "      <td>18.0</td>\n",
       "      <td>M</td>\n",
       "      <td>W</td>\n",
       "      <td>Guthrie</td>\n",
       "      <td>OK</td>\n",
       "      <td>False</td>\n",
       "      <td>attack</td>\n",
       "      <td>Not fleeing</td>\n",
       "      <td>False</td>\n",
       "    </tr>\n",
       "    <tr>\n",
       "      <th>6</th>\n",
       "      <td>13</td>\n",
       "      <td>Kenneth Arnold Buck</td>\n",
       "      <td>2015-01-05</td>\n",
       "      <td>shot</td>\n",
       "      <td>gun</td>\n",
       "      <td>22.0</td>\n",
       "      <td>M</td>\n",
       "      <td>H</td>\n",
       "      <td>Chandler</td>\n",
       "      <td>AZ</td>\n",
       "      <td>False</td>\n",
       "      <td>attack</td>\n",
       "      <td>Car</td>\n",
       "      <td>False</td>\n",
       "    </tr>\n",
       "    <tr>\n",
       "      <th>7</th>\n",
       "      <td>15</td>\n",
       "      <td>Brock Nichols</td>\n",
       "      <td>2015-01-06</td>\n",
       "      <td>shot</td>\n",
       "      <td>gun</td>\n",
       "      <td>35.0</td>\n",
       "      <td>M</td>\n",
       "      <td>W</td>\n",
       "      <td>Assaria</td>\n",
       "      <td>KS</td>\n",
       "      <td>False</td>\n",
       "      <td>attack</td>\n",
       "      <td>Not fleeing</td>\n",
       "      <td>False</td>\n",
       "    </tr>\n",
       "    <tr>\n",
       "      <th>8</th>\n",
       "      <td>16</td>\n",
       "      <td>Autumn Steele</td>\n",
       "      <td>2015-01-06</td>\n",
       "      <td>shot</td>\n",
       "      <td>unarmed</td>\n",
       "      <td>34.0</td>\n",
       "      <td>F</td>\n",
       "      <td>W</td>\n",
       "      <td>Burlington</td>\n",
       "      <td>IA</td>\n",
       "      <td>False</td>\n",
       "      <td>other</td>\n",
       "      <td>Not fleeing</td>\n",
       "      <td>True</td>\n",
       "    </tr>\n",
       "    <tr>\n",
       "      <th>9</th>\n",
       "      <td>17</td>\n",
       "      <td>Leslie Sapp III</td>\n",
       "      <td>2015-01-06</td>\n",
       "      <td>shot</td>\n",
       "      <td>toy weapon</td>\n",
       "      <td>47.0</td>\n",
       "      <td>M</td>\n",
       "      <td>B</td>\n",
       "      <td>Knoxville</td>\n",
       "      <td>PA</td>\n",
       "      <td>False</td>\n",
       "      <td>attack</td>\n",
       "      <td>Not fleeing</td>\n",
       "      <td>False</td>\n",
       "    </tr>\n",
       "  </tbody>\n",
       "</table>\n",
       "</div>"
      ],
      "text/plain": [
       "   id                 name        date   manner_of_death       armed   age  \\\n",
       "0   3           Tim Elliot  2015-01-02              shot         gun  53.0   \n",
       "1   4     Lewis Lee Lembke  2015-01-02              shot         gun  47.0   \n",
       "2   5   John Paul Quintero  2015-01-03  shot and Tasered     unarmed  23.0   \n",
       "3   8      Matthew Hoffman  2015-01-04              shot  toy weapon  32.0   \n",
       "4   9    Michael Rodriguez  2015-01-04              shot    nail gun  39.0   \n",
       "5  11    Kenneth Joe Brown  2015-01-04              shot         gun  18.0   \n",
       "6  13  Kenneth Arnold Buck  2015-01-05              shot         gun  22.0   \n",
       "7  15        Brock Nichols  2015-01-06              shot         gun  35.0   \n",
       "8  16        Autumn Steele  2015-01-06              shot     unarmed  34.0   \n",
       "9  17      Leslie Sapp III  2015-01-06              shot  toy weapon  47.0   \n",
       "\n",
       "  gender race           city state  signs_of_mental_illness threat_level  \\\n",
       "0      M    A        Shelton    WA                     True       attack   \n",
       "1      M    W          Aloha    OR                    False       attack   \n",
       "2      M    H        Wichita    KS                    False        other   \n",
       "3      M    W  San Francisco    CA                     True       attack   \n",
       "4      M    H          Evans    CO                    False       attack   \n",
       "5      M    W        Guthrie    OK                    False       attack   \n",
       "6      M    H       Chandler    AZ                    False       attack   \n",
       "7      M    W        Assaria    KS                    False       attack   \n",
       "8      F    W     Burlington    IA                    False        other   \n",
       "9      M    B      Knoxville    PA                    False       attack   \n",
       "\n",
       "          flee  body_camera  \n",
       "0  Not fleeing        False  \n",
       "1  Not fleeing        False  \n",
       "2  Not fleeing        False  \n",
       "3  Not fleeing        False  \n",
       "4  Not fleeing        False  \n",
       "5  Not fleeing        False  \n",
       "6          Car        False  \n",
       "7  Not fleeing        False  \n",
       "8  Not fleeing         True  \n",
       "9  Not fleeing        False  "
      ]
     },
     "execution_count": 18,
     "metadata": {},
     "output_type": "execute_result"
    }
   ],
   "source": [
    "WP.head(10) # first ten entries"
   ]
  },
  {
   "cell_type": "code",
   "execution_count": 9,
   "metadata": {},
   "outputs": [
    {
     "data": {
      "text/plain": [
       "count    5159.000000\n",
       "mean       37.127544\n",
       "std        13.111684\n",
       "min         6.000000\n",
       "25%        27.000000\n",
       "50%        35.000000\n",
       "75%        46.000000\n",
       "max        91.000000\n",
       "Name: age, dtype: float64"
      ]
     },
     "execution_count": 9,
     "metadata": {},
     "output_type": "execute_result"
    }
   ],
   "source": [
    "WP[\"age\"].describe() # descriptive statistics on the age data"
   ]
  },
  {
   "cell_type": "code",
   "execution_count": 10,
   "metadata": {},
   "outputs": [
    {
     "data": {
      "text/plain": [
       "id                         5160\n",
       "name                       5160\n",
       "date                       5160\n",
       "manner_of_death            5160\n",
       "armed                      4949\n",
       "age                        4930\n",
       "gender                     5160\n",
       "race                       4664\n",
       "city                       5160\n",
       "state                      5160\n",
       "signs_of_mental_illness    5160\n",
       "threat_level               5160\n",
       "flee                       4922\n",
       "body_camera                5160\n",
       "dtype: int64"
      ]
     },
     "execution_count": 10,
     "metadata": {},
     "output_type": "execute_result"
    }
   ],
   "source": [
    "WP[WP[\"gender\"] == \"M\"].count() # the number of men in the data set"
   ]
  },
  {
   "cell_type": "code",
   "execution_count": 12,
   "metadata": {},
   "outputs": [
    {
     "data": {
      "text/plain": [
       "id                         237\n",
       "name                       237\n",
       "date                       237\n",
       "manner_of_death            237\n",
       "armed                      221\n",
       "age                        228\n",
       "gender                     237\n",
       "race                       220\n",
       "city                       237\n",
       "state                      237\n",
       "signs_of_mental_illness    237\n",
       "threat_level               237\n",
       "flee                       228\n",
       "body_camera                237\n",
       "dtype: int64"
      ]
     },
     "execution_count": 12,
     "metadata": {},
     "output_type": "execute_result"
    }
   ],
   "source": [
    "WP[WP[\"gender\"] == \"F\"].count() # the number of women in the data set"
   ]
  },
  {
   "cell_type": "code",
   "execution_count": 19,
   "metadata": {},
   "outputs": [],
   "source": [
    "import matplotlib.pyplot as plt\n",
    "%matplotlib inline"
   ]
  },
  {
   "cell_type": "code",
   "execution_count": 23,
   "metadata": {},
   "outputs": [
    {
     "data": {
      "text/plain": [
       "shot                5129\n",
       "shot and Tasered     270\n",
       "Name: manner_of_death, dtype: int64"
      ]
     },
     "execution_count": 23,
     "metadata": {},
     "output_type": "execute_result"
    }
   ],
   "source": [
    "WP_manner = WP['manner_of_death'].value_counts()\n",
    "WP_manner"
   ]
  },
  {
   "cell_type": "code",
   "execution_count": 29,
   "metadata": {},
   "outputs": [],
   "source": [
    "manner = [\"shot\", \"shot & tasered\"]\n",
    "manner_num = [5129, 270]"
   ]
  },
  {
   "cell_type": "code",
   "execution_count": 31,
   "metadata": {},
   "outputs": [
    {
     "data": {
      "text/plain": [
       "Text(0.5,1,'Frequency of Manner of Death')"
      ]
     },
     "execution_count": 31,
     "metadata": {},
     "output_type": "execute_result"
    },
    {
     "data": {
      "image/png": "[encoded data removed]",
      "text/plain": [
       "<Figure size 432x288 with 1 Axes>"
      ]
     },
     "metadata": {},
     "output_type": "display_data"
    }
   ],
   "source": [
    "plt.bar(manner, manner_num)\n",
    "plt.xlabel(\"Manner of Death\")\n",
    "plt.ylabel('Frequency')\n",
    "plt.title('Frequency of Manner of Death')"
   ]
  },
  {
   "cell_type": "code",
   "execution_count": 32,
   "metadata": {},
   "outputs": [
    {
     "data": {
      "text/plain": [
       "gun                                 3051\n",
       "knife                                791\n",
       "unarmed                              353\n",
       "toy weapon                           184\n",
       "undetermined                         162\n",
       "vehicle                              139\n",
       "unknown weapon                        79\n",
       "machete                               44\n",
       "Taser                                 26\n",
       "ax                                    24\n",
       "sword                                 22\n",
       "baseball bat                          18\n",
       "gun and knife                         17\n",
       "hammer                                15\n",
       "screwdriver                           13\n",
       "sharp object                          13\n",
       "metal pipe                            12\n",
       "box cutter                            12\n",
       "gun and car                           11\n",
       "hatchet                               11\n",
       "gun and vehicle                       10\n",
       "crossbow                               9\n",
       "scissors                               7\n",
       "rock                                   6\n",
       "shovel                                 6\n",
       "pipe                                   6\n",
       "baton                                  5\n",
       "BB gun                                 5\n",
       "meat cleaver                           5\n",
       "blunt object                           5\n",
       "                                    ... \n",
       "machete and gun                        1\n",
       "nail gun                               1\n",
       "motorcycle                             1\n",
       "flagpole                               1\n",
       "air pistol                             1\n",
       "BB gun and vehicle                     1\n",
       "claimed to be armed                    1\n",
       "hand torch                             1\n",
       "bean-bag gun                           1\n",
       "tire iron                              1\n",
       "barstool                               1\n",
       "car, knife and mace                    1\n",
       "fireworks                              1\n",
       "baseball bat and bottle                1\n",
       "pepper spray                           1\n",
       "air conditioner                        1\n",
       "vehicle and machete                    1\n",
       "carjack                                1\n",
       "gun and sword                          1\n",
       "spear                                  1\n",
       "ice pick                               1\n",
       "chainsaw                               1\n",
       "metal rake                             1\n",
       "stapler                                1\n",
       "Airsoft pistol                         1\n",
       "baseball bat and fireplace poker       1\n",
       "pen                                    1\n",
       "contractor's level                     1\n",
       "bow and arrow                          1\n",
       "cordless drill                         1\n",
       "Name: armed, Length: 93, dtype: int64"
      ]
     },
     "execution_count": 32,
     "metadata": {},
     "output_type": "execute_result"
    }
   ],
   "source": [
    "WP_armed = WP['armed'].value_counts()\n",
    "WP_armed"
   ]
  },
  {
   "cell_type": "code",
   "execution_count": 38,
   "metadata": {},
   "outputs": [
    {
     "data": {
      "text/plain": [
       "([0, 1, 2, 3, 4, 5, 6], <a list of 7 Text xticklabel objects>)"
      ]
     },
     "execution_count": 38,
     "metadata": {},
     "output_type": "execute_result"
    },
    {
     "data": {
      "image/png": "[encoded data removed]",
      "text/plain": [
       "<Figure size 432x288 with 1 Axes>"
      ]
     },
     "metadata": {},
     "output_type": "display_data"
    }
   ],
   "source": [
    "# This is a plot for weapons used at a frequency of 50 or greater\n",
    "armed = [\"gun\", \"knife\", \"unarmed\", \"toy weapon\", \"undetermined\", \"vehicle\", \"unknown weapon\"]\n",
    "armed_num = [3051, 791, 353, 184, 162, 139, 79]\n",
    "\n",
    "plt.bar(armed, armed_num)\n",
    "plt.xlabel(\"Alleged Weapon\")\n",
    "plt.ylabel('Frequency')\n",
    "plt.title('Frequency of Alleged Weapons')\n",
    "plt.xticks(rotation=30)"
   ]
  },
  {
   "cell_type": "code",
   "execution_count": 39,
   "metadata": {},
   "outputs": [
    {
     "data": {
      "text/plain": [
       "31.0    183\n",
       "25.0    182\n",
       "33.0    171\n",
       "27.0    169\n",
       "29.0    169\n",
       "32.0    167\n",
       "34.0    167\n",
       "36.0    156\n",
       "24.0    156\n",
       "28.0    155\n",
       "30.0    155\n",
       "35.0    151\n",
       "26.0    148\n",
       "37.0    146\n",
       "38.0    132\n",
       "23.0    130\n",
       "39.0    123\n",
       "41.0    116\n",
       "22.0    114\n",
       "40.0    111\n",
       "45.0    111\n",
       "21.0    100\n",
       "42.0     97\n",
       "46.0     96\n",
       "18.0     95\n",
       "20.0     94\n",
       "47.0     92\n",
       "43.0     89\n",
       "50.0     85\n",
       "48.0     85\n",
       "       ... \n",
       "63.0     29\n",
       "65.0     25\n",
       "64.0     21\n",
       "67.0     18\n",
       "69.0     17\n",
       "68.0     15\n",
       "66.0     15\n",
       "70.0     14\n",
       "15.0     13\n",
       "76.0     11\n",
       "71.0     10\n",
       "73.0      6\n",
       "72.0      6\n",
       "74.0      5\n",
       "77.0      5\n",
       "84.0      4\n",
       "75.0      4\n",
       "14.0      3\n",
       "83.0      3\n",
       "81.0      2\n",
       "82.0      2\n",
       "86.0      2\n",
       "80.0      2\n",
       "6.0       2\n",
       "91.0      1\n",
       "89.0      1\n",
       "12.0      1\n",
       "78.0      1\n",
       "13.0      1\n",
       "79.0      1\n",
       "Name: age, Length: 77, dtype: int64"
      ]
     },
     "execution_count": 39,
     "metadata": {},
     "output_type": "execute_result"
    }
   ],
   "source": [
    "WP_age = WP['age'].value_counts()\n",
    "WP_age"
   ]
  },
  {
   "cell_type": "code",
   "execution_count": 41,
   "metadata": {},
   "outputs": [
    {
     "data": {
      "text/plain": [
       "M    5160\n",
       "F     237\n",
       "Name: gender, dtype: int64"
      ]
     },
     "execution_count": 41,
     "metadata": {},
     "output_type": "execute_result"
    }
   ],
   "source": [
    "WP_gender = WP['gender'].value_counts()\n",
    "WP_gender"
   ]
  },
  {
   "cell_type": "code",
   "execution_count": 45,
   "metadata": {},
   "outputs": [
    {
     "data": {
      "text/plain": [
       "([0, 1], <a list of 2 Text xticklabel objects>)"
      ]
     },
     "execution_count": 45,
     "metadata": {},
     "output_type": "execute_result"
    },
    {
     "data": {
      "image/png": "[encoded data removed]",
      "text/plain": [
       "<Figure size 432x288 with 1 Axes>"
      ]
     },
     "metadata": {},
     "output_type": "display_data"
    }
   ],
   "source": [
    "# This is a bar graph for sex\n",
    "gender = [\"male\", \"female\"]\n",
    "gender_num = [5160, 237]\n",
    "\n",
    "plt.bar(gender, gender_num)\n",
    "plt.xlabel(\"Sex\")\n",
    "plt.ylabel('Frequency')\n",
    "plt.title('Frequency of Police Fatalities by Sex')\n",
    "plt.xticks(rotation=30)"
   ]
  },
  {
   "cell_type": "code",
   "execution_count": 44,
   "metadata": {},
   "outputs": [
    {
     "data": {
      "text/plain": [
       "W    2474\n",
       "B    1292\n",
       "H     900\n",
       "A      93\n",
       "N      78\n",
       "O      48\n",
       "Name: race, dtype: int64"
      ]
     },
     "execution_count": 44,
     "metadata": {},
     "output_type": "execute_result"
    }
   ],
   "source": [
    "WP_race = WP['race'].value_counts()\n",
    "WP_race"
   ]
  },
  {
   "cell_type": "code",
   "execution_count": 46,
   "metadata": {},
   "outputs": [
    {
     "data": {
      "text/plain": [
       "([0, 1, 2, 3, 4, 5], <a list of 6 Text xticklabel objects>)"
      ]
     },
     "execution_count": 46,
     "metadata": {},
     "output_type": "execute_result"
    },
    {
     "data": {
      "image/png": "[encoded data removed]",
      "text/plain": [
       "<Figure size 432x288 with 1 Axes>"
      ]
     },
     "metadata": {},
     "output_type": "display_data"
    }
   ],
   "source": [
    "# This is a bar graph for race\n",
    "race = [\"White, non-Hispanic\", \"Black, non-Hispanic\", \"Hispanic\", \"Asian\", \"Native American\", \"Other\"]\n",
    "race_num = [2474, 1292, 900, 93, 78, 48]\n",
    "\n",
    "plt.bar(race, race_num)\n",
    "plt.xlabel(\"Race\")\n",
    "plt.ylabel('Frequency')\n",
    "plt.title('Frequency of Police Fatalities by Race')\n",
    "plt.xticks(rotation=30)"
   ]
  },
  {
   "cell_type": "code",
   "execution_count": 47,
   "metadata": {},
   "outputs": [
    {
     "data": {
      "text/plain": [
       "CA    795\n",
       "TX    480\n",
       "FL    349\n",
       "AZ    253\n",
       "CO    194\n",
       "GA    181\n",
       "OK    164\n",
       "NC    156\n",
       "OH    155\n",
       "WA    152\n",
       "MO    139\n",
       "TN    138\n",
       "LA    109\n",
       "PA    108\n",
       "NM    105\n",
       "AL    104\n",
       "IL    103\n",
       "NY    100\n",
       "NV     96\n",
       "IN     95\n",
       "KY     95\n",
       "VA     95\n",
       "WI     91\n",
       "OR     88\n",
       "SC     88\n",
       "AR     82\n",
       "MD     79\n",
       "MI     78\n",
       "NJ     68\n",
       "MS     66\n",
       "MN     61\n",
       "UT     60\n",
       "WV     54\n",
       "KS     49\n",
       "ID     41\n",
       "AK     39\n",
       "MA     35\n",
       "IA     32\n",
       "MT     31\n",
       "HI     30\n",
       "NE     24\n",
       "ME     22\n",
       "CT     21\n",
       "SD     17\n",
       "WY     14\n",
       "DE     13\n",
       "NH     13\n",
       "DC     13\n",
       "ND     11\n",
       "VT      9\n",
       "RI      4\n",
       "Name: state, dtype: int64"
      ]
     },
     "execution_count": 47,
     "metadata": {},
     "output_type": "execute_result"
    }
   ],
   "source": [
    "WP_state = WP['state'].value_counts()\n",
    "WP_state"
   ]
  },
  {
   "cell_type": "code",
   "execution_count": 48,
   "metadata": {},
   "outputs": [
    {
     "data": {
      "text/plain": [
       "([0, 1, 2, 3, 4, 5, 6, 7, 8, 9, 10, 11, 12, 13, 14, 15, 16, 17],\n",
       " <a list of 18 Text xticklabel objects>)"
      ]
     },
     "execution_count": 48,
     "metadata": {},
     "output_type": "execute_result"
    },
    {
     "data": {
      "image/png": "[encoded data removed]",
      "text/plain": [
       "<Figure size 432x288 with 1 Axes>"
      ]
     },
     "metadata": {},
     "output_type": "display_data"
    }
   ],
   "source": [
    "# This is a bar graph for states with 100 or more police fatalities\n",
    "state = [\"CA\", \"TX\", \"FL\", \"AZ\", \"CO\", \"GA\", \"OK\", \"NC\", \"OH\", \"WA\", \"MO\", \"TN\", \"LA\", \"PA\", \"NM\", \"AL\", \"IL\", \"NY\"]\n",
    "state_num = [795, 480, 349, 253, 194, 181, 164, 156, 155, 152, 139, 138, 109, 108, 105, 104, 103, 100]\n",
    "\n",
    "plt.bar(state, state_num)\n",
    "plt.xlabel(\"State\")\n",
    "plt.ylabel('Frequency')\n",
    "plt.title('Frequency of Police Fatalities by State with 100+ Police Fatalities')\n",
    "plt.xticks(rotation=30)"
   ]
  },
  {
   "cell_type": "code",
   "execution_count": 49,
   "metadata": {},
   "outputs": [
    {
     "data": {
      "text/plain": [
       "False    4185\n",
       "True     1214\n",
       "Name: signs_of_mental_illness, dtype: int64"
      ]
     },
     "execution_count": 49,
     "metadata": {},
     "output_type": "execute_result"
    }
   ],
   "source": [
    "WP_illness = WP['signs_of_mental_illness'].value_counts()\n",
    "WP_illness"
   ]
  },
  {
   "cell_type": "code",
   "execution_count": 50,
   "metadata": {},
   "outputs": [
    {
     "data": {
      "text/plain": [
       "([0, 1], <a list of 2 Text xticklabel objects>)"
      ]
     },
     "execution_count": 50,
     "metadata": {},
     "output_type": "execute_result"
    },
    {
     "data": {
      "image/png": "[encoded data removed]",
      "text/plain": [
       "<Figure size 432x288 with 1 Axes>"
      ]
     },
     "metadata": {},
     "output_type": "display_data"
    }
   ],
   "source": [
    "# This is a bar graph for signs of mental illness\n",
    "illness = [\"False\", \"True\"]\n",
    "illness_num = [4185, 1214]\n",
    "\n",
    "plt.bar(illness, illness_num)\n",
    "plt.xlabel(\"Signs of Mental Illess\")\n",
    "plt.ylabel('Frequency')\n",
    "plt.title('Frequency of Police Fatalities with Signs of Mental Illness')\n",
    "plt.xticks(rotation=30)"
   ]
  },
  {
   "cell_type": "code",
   "execution_count": 51,
   "metadata": {},
   "outputs": [
    {
     "data": {
      "text/plain": [
       "attack          3484\n",
       "other           1677\n",
       "undetermined     238\n",
       "Name: threat_level, dtype: int64"
      ]
     },
     "execution_count": 51,
     "metadata": {},
     "output_type": "execute_result"
    }
   ],
   "source": [
    "WP_threat = WP['threat_level'].value_counts()\n",
    "WP_threat"
   ]
  },
  {
   "cell_type": "code",
   "execution_count": 52,
   "metadata": {},
   "outputs": [
    {
     "data": {
      "text/plain": [
       "([0, 1, 2], <a list of 3 Text xticklabel objects>)"
      ]
     },
     "execution_count": 52,
     "metadata": {},
     "output_type": "execute_result"
    },
    {
     "data": {
      "image/png": "[encoded data removed]",
      "text/plain": [
       "<Figure size 432x288 with 1 Axes>"
      ]
     },
     "metadata": {},
     "output_type": "display_data"
    }
   ],
   "source": [
    "# This is a bar graph for threat level\n",
    "threat = [\"attack\", \"other\", \"undetermined\"]\n",
    "threat_num = [3484, 1677, 238]\n",
    "\n",
    "plt.bar(threat, threat_num)\n",
    "plt.xlabel(\"Threat\")\n",
    "plt.ylabel('Frequency')\n",
    "plt.title('Frequency of Police Fatalities by Threat Level')\n",
    "plt.xticks(rotation=30)"
   ]
  },
  {
   "cell_type": "code",
   "execution_count": 53,
   "metadata": {},
   "outputs": [
    {
     "data": {
      "text/plain": [
       "Not fleeing    3403\n",
       "Car             899\n",
       "Foot            688\n",
       "Other           162\n",
       "Name: flee, dtype: int64"
      ]
     },
     "execution_count": 53,
     "metadata": {},
     "output_type": "execute_result"
    }
   ],
   "source": [
    "WP_flee = WP['flee'].value_counts()\n",
    "WP_flee"
   ]
  },
  {
   "cell_type": "code",
   "execution_count": 54,
   "metadata": {},
   "outputs": [
    {
     "data": {
      "text/plain": [
       "([0, 1, 2, 3], <a list of 4 Text xticklabel objects>)"
      ]
     },
     "execution_count": 54,
     "metadata": {},
     "output_type": "execute_result"
    },
    {
     "data": {
      "image/png": "[encoded data removed]",
      "text/plain": [
       "<Figure size 432x288 with 1 Axes>"
      ]
     },
     "metadata": {},
     "output_type": "display_data"
    }
   ],
   "source": [
    "# This is a bar graph for fleeing tactic\n",
    "flee = [\"Not fleeing\", \"Car\", \"Foot\", \"Other\"]\n",
    "flee_num = [3403, 899, 688, 162]\n",
    "\n",
    "plt.bar(flee, flee_num)\n",
    "plt.xlabel(\"Flee Tactic\")\n",
    "plt.ylabel('Frequency')\n",
    "plt.title('Frequency of Police Fatalities by Flee Tatic')\n",
    "plt.xticks(rotation=30)"
   ]
  },
  {
   "cell_type": "code",
   "execution_count": 55,
   "metadata": {},
   "outputs": [
    {
     "data": {
      "text/plain": [
       "False    4786\n",
       "True      613\n",
       "Name: body_camera, dtype: int64"
      ]
     },
     "execution_count": 55,
     "metadata": {},
     "output_type": "execute_result"
    }
   ],
   "source": [
    "WP_bodycam = WP['body_camera'].value_counts()\n",
    "WP_bodycam"
   ]
  },
  {
   "cell_type": "code",
   "execution_count": 56,
   "metadata": {},
   "outputs": [
    {
     "data": {
      "text/plain": [
       "([0, 1], <a list of 2 Text xticklabel objects>)"
      ]
     },
     "execution_count": 56,
     "metadata": {},
     "output_type": "execute_result"
    },
    {
     "data": {
      "image/png": "[encoded data removed]",
      "text/plain": [
       "<Figure size 432x288 with 1 Axes>"
      ]
     },
     "metadata": {},
     "output_type": "display_data"
    }
   ],
   "source": [
    "# This is a bar graph for fleeing\n",
    "bodycam = [\"False\", \"True\"]\n",
    "bodycam_num = [4786, 613]\n",
    "\n",
    "plt.bar(bodycam, bodycam_num)\n",
    "plt.xlabel(\"Body Camera Usage\")\n",
    "plt.ylabel('Frequency')\n",
    "plt.title('Frequency of Police Fatalities by Body Camera Usage')\n",
    "plt.xticks(rotation=30)"
   ]
  },
  {
   "cell_type": "code",
   "execution_count": 62,
   "metadata": {},
   "outputs": [
    {
     "data": {
      "text/html": [
       "<div>\n",
       "<style scoped>\n",
       "    .dataframe tbody tr th:only-of-type {\n",
       "        vertical-align: middle;\n",
       "    }\n",
       "\n",
       "    .dataframe tbody tr th {\n",
       "        vertical-align: top;\n",
       "    }\n",
       "\n",
       "    .dataframe thead th {\n",
       "        text-align: right;\n",
       "    }\n",
       "</style>\n",
       "<table border=\"1\" class=\"dataframe\">\n",
       "  <thead>\n",
       "    <tr style=\"text-align: right;\">\n",
       "      <th></th>\n",
       "      <th>id</th>\n",
       "      <th>name</th>\n",
       "      <th>date</th>\n",
       "      <th>manner_of_death</th>\n",
       "      <th>armed</th>\n",
       "      <th>age</th>\n",
       "      <th>gender</th>\n",
       "      <th>race</th>\n",
       "      <th>city</th>\n",
       "      <th>state</th>\n",
       "      <th>signs_of_mental_illness</th>\n",
       "      <th>threat_level</th>\n",
       "      <th>flee</th>\n",
       "      <th>body_camera</th>\n",
       "    </tr>\n",
       "  </thead>\n",
       "  <tbody>\n",
       "    <tr>\n",
       "      <th>5</th>\n",
       "      <td>11</td>\n",
       "      <td>Kenneth Joe Brown</td>\n",
       "      <td>2015-01-04</td>\n",
       "      <td>shot</td>\n",
       "      <td>gun</td>\n",
       "      <td>18.0</td>\n",
       "      <td>M</td>\n",
       "      <td>W</td>\n",
       "      <td>Guthrie</td>\n",
       "      <td>OK</td>\n",
       "      <td>False</td>\n",
       "      <td>attack</td>\n",
       "      <td>Not fleeing</td>\n",
       "      <td>False</td>\n",
       "    </tr>\n",
       "    <tr>\n",
       "      <th>48</th>\n",
       "      <td>90</td>\n",
       "      <td>Isaac Holmes</td>\n",
       "      <td>2015-01-21</td>\n",
       "      <td>shot</td>\n",
       "      <td>gun</td>\n",
       "      <td>19.0</td>\n",
       "      <td>M</td>\n",
       "      <td>B</td>\n",
       "      <td>St. Louis</td>\n",
       "      <td>MO</td>\n",
       "      <td>False</td>\n",
       "      <td>attack</td>\n",
       "      <td>Not fleeing</td>\n",
       "      <td>False</td>\n",
       "    </tr>\n",
       "    <tr>\n",
       "      <th>51</th>\n",
       "      <td>100</td>\n",
       "      <td>Kristiana Coignard</td>\n",
       "      <td>2015-01-22</td>\n",
       "      <td>shot and Tasered</td>\n",
       "      <td>knife</td>\n",
       "      <td>17.0</td>\n",
       "      <td>F</td>\n",
       "      <td>W</td>\n",
       "      <td>Longview</td>\n",
       "      <td>TX</td>\n",
       "      <td>True</td>\n",
       "      <td>other</td>\n",
       "      <td>Not fleeing</td>\n",
       "      <td>False</td>\n",
       "    </tr>\n",
       "    <tr>\n",
       "      <th>60</th>\n",
       "      <td>20</td>\n",
       "      <td>Jessie Hernandez</td>\n",
       "      <td>2015-01-26</td>\n",
       "      <td>shot</td>\n",
       "      <td>NaN</td>\n",
       "      <td>17.0</td>\n",
       "      <td>F</td>\n",
       "      <td>H</td>\n",
       "      <td>Denver</td>\n",
       "      <td>CO</td>\n",
       "      <td>False</td>\n",
       "      <td>other</td>\n",
       "      <td>Not fleeing</td>\n",
       "      <td>False</td>\n",
       "    </tr>\n",
       "    <tr>\n",
       "      <th>78</th>\n",
       "      <td>528</td>\n",
       "      <td>Jacob Haglund</td>\n",
       "      <td>2015-02-02</td>\n",
       "      <td>shot</td>\n",
       "      <td>gun</td>\n",
       "      <td>17.0</td>\n",
       "      <td>M</td>\n",
       "      <td>W</td>\n",
       "      <td>Bay City</td>\n",
       "      <td>MI</td>\n",
       "      <td>False</td>\n",
       "      <td>attack</td>\n",
       "      <td>Not fleeing</td>\n",
       "      <td>False</td>\n",
       "    </tr>\n",
       "    <tr>\n",
       "      <th>110</th>\n",
       "      <td>149</td>\n",
       "      <td>Jason C. Hendrix</td>\n",
       "      <td>2015-02-14</td>\n",
       "      <td>shot</td>\n",
       "      <td>gun</td>\n",
       "      <td>16.0</td>\n",
       "      <td>M</td>\n",
       "      <td>W</td>\n",
       "      <td>Essex</td>\n",
       "      <td>MD</td>\n",
       "      <td>True</td>\n",
       "      <td>attack</td>\n",
       "      <td>Car</td>\n",
       "      <td>False</td>\n",
       "    </tr>\n",
       "    <tr>\n",
       "      <th>134</th>\n",
       "      <td>176</td>\n",
       "      <td>A'Donte Washington</td>\n",
       "      <td>2015-02-23</td>\n",
       "      <td>shot</td>\n",
       "      <td>gun</td>\n",
       "      <td>16.0</td>\n",
       "      <td>M</td>\n",
       "      <td>B</td>\n",
       "      <td>Millbrook</td>\n",
       "      <td>AL</td>\n",
       "      <td>False</td>\n",
       "      <td>attack</td>\n",
       "      <td>Not fleeing</td>\n",
       "      <td>False</td>\n",
       "    </tr>\n",
       "    <tr>\n",
       "      <th>152</th>\n",
       "      <td>187</td>\n",
       "      <td>Deven Guilford</td>\n",
       "      <td>2015-02-28</td>\n",
       "      <td>shot and Tasered</td>\n",
       "      <td>unarmed</td>\n",
       "      <td>17.0</td>\n",
       "      <td>M</td>\n",
       "      <td>W</td>\n",
       "      <td>Roxand Township</td>\n",
       "      <td>MI</td>\n",
       "      <td>False</td>\n",
       "      <td>attack</td>\n",
       "      <td>Not fleeing</td>\n",
       "      <td>True</td>\n",
       "    </tr>\n",
       "    <tr>\n",
       "      <th>164</th>\n",
       "      <td>203</td>\n",
       "      <td>Tony Robinson</td>\n",
       "      <td>2015-03-06</td>\n",
       "      <td>shot</td>\n",
       "      <td>unarmed</td>\n",
       "      <td>19.0</td>\n",
       "      <td>M</td>\n",
       "      <td>B</td>\n",
       "      <td>Madison</td>\n",
       "      <td>WI</td>\n",
       "      <td>False</td>\n",
       "      <td>attack</td>\n",
       "      <td>Foot</td>\n",
       "      <td>False</td>\n",
       "    </tr>\n",
       "    <tr>\n",
       "      <th>206</th>\n",
       "      <td>229</td>\n",
       "      <td>Brandon Jones</td>\n",
       "      <td>2015-03-19</td>\n",
       "      <td>shot</td>\n",
       "      <td>unarmed</td>\n",
       "      <td>18.0</td>\n",
       "      <td>M</td>\n",
       "      <td>B</td>\n",
       "      <td>Cleveland</td>\n",
       "      <td>OH</td>\n",
       "      <td>False</td>\n",
       "      <td>attack</td>\n",
       "      <td>Not fleeing</td>\n",
       "      <td>False</td>\n",
       "    </tr>\n",
       "    <tr>\n",
       "      <th>208</th>\n",
       "      <td>265</td>\n",
       "      <td>Kendre Alston</td>\n",
       "      <td>2015-03-19</td>\n",
       "      <td>shot</td>\n",
       "      <td>gun</td>\n",
       "      <td>16.0</td>\n",
       "      <td>M</td>\n",
       "      <td>B</td>\n",
       "      <td>Jacksonville</td>\n",
       "      <td>FL</td>\n",
       "      <td>False</td>\n",
       "      <td>attack</td>\n",
       "      <td>Car</td>\n",
       "      <td>False</td>\n",
       "    </tr>\n",
       "    <tr>\n",
       "      <th>252</th>\n",
       "      <td>296</td>\n",
       "      <td>Justus Howell</td>\n",
       "      <td>2015-04-04</td>\n",
       "      <td>shot</td>\n",
       "      <td>gun</td>\n",
       "      <td>17.0</td>\n",
       "      <td>M</td>\n",
       "      <td>B</td>\n",
       "      <td>Zion</td>\n",
       "      <td>IL</td>\n",
       "      <td>False</td>\n",
       "      <td>attack</td>\n",
       "      <td>Foot</td>\n",
       "      <td>False</td>\n",
       "    </tr>\n",
       "    <tr>\n",
       "      <th>287</th>\n",
       "      <td>380</td>\n",
       "      <td>Jeffrey Kemp</td>\n",
       "      <td>2015-04-17</td>\n",
       "      <td>shot</td>\n",
       "      <td>gun</td>\n",
       "      <td>18.0</td>\n",
       "      <td>M</td>\n",
       "      <td>B</td>\n",
       "      <td>Chicago</td>\n",
       "      <td>IL</td>\n",
       "      <td>False</td>\n",
       "      <td>attack</td>\n",
       "      <td>Foot</td>\n",
       "      <td>False</td>\n",
       "    </tr>\n",
       "    <tr>\n",
       "      <th>299</th>\n",
       "      <td>391</td>\n",
       "      <td>William Chapman</td>\n",
       "      <td>2015-04-22</td>\n",
       "      <td>shot</td>\n",
       "      <td>unarmed</td>\n",
       "      <td>18.0</td>\n",
       "      <td>M</td>\n",
       "      <td>B</td>\n",
       "      <td>Portsmouth</td>\n",
       "      <td>VA</td>\n",
       "      <td>False</td>\n",
       "      <td>undetermined</td>\n",
       "      <td>Not fleeing</td>\n",
       "      <td>False</td>\n",
       "    </tr>\n",
       "    <tr>\n",
       "      <th>306</th>\n",
       "      <td>409</td>\n",
       "      <td>Hector Morejon</td>\n",
       "      <td>2015-04-23</td>\n",
       "      <td>shot</td>\n",
       "      <td>unarmed</td>\n",
       "      <td>19.0</td>\n",
       "      <td>M</td>\n",
       "      <td>H</td>\n",
       "      <td>Long Beach</td>\n",
       "      <td>CA</td>\n",
       "      <td>False</td>\n",
       "      <td>other</td>\n",
       "      <td>Not fleeing</td>\n",
       "      <td>False</td>\n",
       "    </tr>\n",
       "    <tr>\n",
       "      <th>339</th>\n",
       "      <td>432</td>\n",
       "      <td>David William Johnson</td>\n",
       "      <td>2015-05-06</td>\n",
       "      <td>shot</td>\n",
       "      <td>gun</td>\n",
       "      <td>18.0</td>\n",
       "      <td>M</td>\n",
       "      <td>W</td>\n",
       "      <td>Wake Forest</td>\n",
       "      <td>NC</td>\n",
       "      <td>False</td>\n",
       "      <td>attack</td>\n",
       "      <td>Car</td>\n",
       "      <td>False</td>\n",
       "    </tr>\n",
       "    <tr>\n",
       "      <th>360</th>\n",
       "      <td>459</td>\n",
       "      <td>Austin Goodner</td>\n",
       "      <td>2015-05-17</td>\n",
       "      <td>shot</td>\n",
       "      <td>gun</td>\n",
       "      <td>18.0</td>\n",
       "      <td>M</td>\n",
       "      <td>W</td>\n",
       "      <td>St. Petersburg</td>\n",
       "      <td>FL</td>\n",
       "      <td>True</td>\n",
       "      <td>attack</td>\n",
       "      <td>Not fleeing</td>\n",
       "      <td>False</td>\n",
       "    </tr>\n",
       "    <tr>\n",
       "      <th>364</th>\n",
       "      <td>465</td>\n",
       "      <td>David  Gaines</td>\n",
       "      <td>2015-05-19</td>\n",
       "      <td>shot</td>\n",
       "      <td>gun</td>\n",
       "      <td>17.0</td>\n",
       "      <td>M</td>\n",
       "      <td>W</td>\n",
       "      <td>Grand Junction</td>\n",
       "      <td>CO</td>\n",
       "      <td>False</td>\n",
       "      <td>attack</td>\n",
       "      <td>Other</td>\n",
       "      <td>False</td>\n",
       "    </tr>\n",
       "    <tr>\n",
       "      <th>392</th>\n",
       "      <td>494</td>\n",
       "      <td>Kyle Baker</td>\n",
       "      <td>2015-05-28</td>\n",
       "      <td>shot and Tasered</td>\n",
       "      <td>lawn mower blade</td>\n",
       "      <td>18.0</td>\n",
       "      <td>M</td>\n",
       "      <td>W</td>\n",
       "      <td>Trenton</td>\n",
       "      <td>MI</td>\n",
       "      <td>False</td>\n",
       "      <td>attack</td>\n",
       "      <td>Not fleeing</td>\n",
       "      <td>False</td>\n",
       "    </tr>\n",
       "    <tr>\n",
       "      <th>396</th>\n",
       "      <td>500</td>\n",
       "      <td>Ebin Lamont Proctor</td>\n",
       "      <td>2015-05-30</td>\n",
       "      <td>shot</td>\n",
       "      <td>unarmed</td>\n",
       "      <td>19.0</td>\n",
       "      <td>M</td>\n",
       "      <td>W</td>\n",
       "      <td>Cottonwood</td>\n",
       "      <td>AZ</td>\n",
       "      <td>False</td>\n",
       "      <td>attack</td>\n",
       "      <td>Foot</td>\n",
       "      <td>False</td>\n",
       "    </tr>\n",
       "    <tr>\n",
       "      <th>403</th>\n",
       "      <td>509</td>\n",
       "      <td>Miguel Martinez</td>\n",
       "      <td>2015-06-03</td>\n",
       "      <td>shot</td>\n",
       "      <td>gun</td>\n",
       "      <td>18.0</td>\n",
       "      <td>M</td>\n",
       "      <td>H</td>\n",
       "      <td>Ellis County</td>\n",
       "      <td>TX</td>\n",
       "      <td>True</td>\n",
       "      <td>attack</td>\n",
       "      <td>Car</td>\n",
       "      <td>False</td>\n",
       "    </tr>\n",
       "    <tr>\n",
       "      <th>424</th>\n",
       "      <td>540</td>\n",
       "      <td>Isiah Hampton</td>\n",
       "      <td>2015-06-10</td>\n",
       "      <td>shot</td>\n",
       "      <td>gun</td>\n",
       "      <td>19.0</td>\n",
       "      <td>M</td>\n",
       "      <td>B</td>\n",
       "      <td>Bronx</td>\n",
       "      <td>NY</td>\n",
       "      <td>False</td>\n",
       "      <td>attack</td>\n",
       "      <td>Not fleeing</td>\n",
       "      <td>False</td>\n",
       "    </tr>\n",
       "    <tr>\n",
       "      <th>430</th>\n",
       "      <td>553</td>\n",
       "      <td>Shelly Haendiges</td>\n",
       "      <td>2015-06-12</td>\n",
       "      <td>shot</td>\n",
       "      <td>toy weapon</td>\n",
       "      <td>17.0</td>\n",
       "      <td>F</td>\n",
       "      <td>W</td>\n",
       "      <td>Kokomo</td>\n",
       "      <td>IN</td>\n",
       "      <td>True</td>\n",
       "      <td>attack</td>\n",
       "      <td>Not fleeing</td>\n",
       "      <td>False</td>\n",
       "    </tr>\n",
       "    <tr>\n",
       "      <th>435</th>\n",
       "      <td>551</td>\n",
       "      <td>Zane Terryn</td>\n",
       "      <td>2015-06-14</td>\n",
       "      <td>shot</td>\n",
       "      <td>gun</td>\n",
       "      <td>15.0</td>\n",
       "      <td>M</td>\n",
       "      <td>W</td>\n",
       "      <td>Cocoa</td>\n",
       "      <td>FL</td>\n",
       "      <td>True</td>\n",
       "      <td>attack</td>\n",
       "      <td>Not fleeing</td>\n",
       "      <td>False</td>\n",
       "    </tr>\n",
       "    <tr>\n",
       "      <th>479</th>\n",
       "      <td>592</td>\n",
       "      <td>John Deming</td>\n",
       "      <td>2015-07-05</td>\n",
       "      <td>shot</td>\n",
       "      <td>unarmed</td>\n",
       "      <td>19.0</td>\n",
       "      <td>M</td>\n",
       "      <td>W</td>\n",
       "      <td>Pleasanton</td>\n",
       "      <td>CA</td>\n",
       "      <td>False</td>\n",
       "      <td>attack</td>\n",
       "      <td>Foot</td>\n",
       "      <td>False</td>\n",
       "    </tr>\n",
       "    <tr>\n",
       "      <th>488</th>\n",
       "      <td>608</td>\n",
       "      <td>Marcellus Jamarcus Burley</td>\n",
       "      <td>2015-07-07</td>\n",
       "      <td>shot</td>\n",
       "      <td>gun</td>\n",
       "      <td>18.0</td>\n",
       "      <td>M</td>\n",
       "      <td>B</td>\n",
       "      <td>Houston</td>\n",
       "      <td>TX</td>\n",
       "      <td>False</td>\n",
       "      <td>attack</td>\n",
       "      <td>Not fleeing</td>\n",
       "      <td>False</td>\n",
       "    </tr>\n",
       "    <tr>\n",
       "      <th>501</th>\n",
       "      <td>625</td>\n",
       "      <td>Cyrus Hurtado</td>\n",
       "      <td>2015-07-09</td>\n",
       "      <td>shot</td>\n",
       "      <td>gun</td>\n",
       "      <td>17.0</td>\n",
       "      <td>M</td>\n",
       "      <td>W</td>\n",
       "      <td>Boulder Creek</td>\n",
       "      <td>CA</td>\n",
       "      <td>True</td>\n",
       "      <td>attack</td>\n",
       "      <td>Not fleeing</td>\n",
       "      <td>False</td>\n",
       "    </tr>\n",
       "    <tr>\n",
       "      <th>529</th>\n",
       "      <td>657</td>\n",
       "      <td>Darrius Stewart</td>\n",
       "      <td>2015-07-17</td>\n",
       "      <td>shot</td>\n",
       "      <td>unarmed</td>\n",
       "      <td>19.0</td>\n",
       "      <td>M</td>\n",
       "      <td>B</td>\n",
       "      <td>Memphis</td>\n",
       "      <td>TN</td>\n",
       "      <td>False</td>\n",
       "      <td>attack</td>\n",
       "      <td>Foot</td>\n",
       "      <td>False</td>\n",
       "    </tr>\n",
       "    <tr>\n",
       "      <th>556</th>\n",
       "      <td>680</td>\n",
       "      <td>Zachary Hammond</td>\n",
       "      <td>2015-07-26</td>\n",
       "      <td>shot</td>\n",
       "      <td>NaN</td>\n",
       "      <td>19.0</td>\n",
       "      <td>M</td>\n",
       "      <td>W</td>\n",
       "      <td>Seneca</td>\n",
       "      <td>SC</td>\n",
       "      <td>False</td>\n",
       "      <td>other</td>\n",
       "      <td>Other</td>\n",
       "      <td>False</td>\n",
       "    </tr>\n",
       "    <tr>\n",
       "      <th>573</th>\n",
       "      <td>698</td>\n",
       "      <td>Joshua Malave</td>\n",
       "      <td>2015-08-03</td>\n",
       "      <td>shot</td>\n",
       "      <td>gun</td>\n",
       "      <td>18.0</td>\n",
       "      <td>M</td>\n",
       "      <td>W</td>\n",
       "      <td>Campbelltown</td>\n",
       "      <td>PA</td>\n",
       "      <td>False</td>\n",
       "      <td>attack</td>\n",
       "      <td>Foot</td>\n",
       "      <td>False</td>\n",
       "    </tr>\n",
       "    <tr>\n",
       "      <th>...</th>\n",
       "      <td>...</td>\n",
       "      <td>...</td>\n",
       "      <td>...</td>\n",
       "      <td>...</td>\n",
       "      <td>...</td>\n",
       "      <td>...</td>\n",
       "      <td>...</td>\n",
       "      <td>...</td>\n",
       "      <td>...</td>\n",
       "      <td>...</td>\n",
       "      <td>...</td>\n",
       "      <td>...</td>\n",
       "      <td>...</td>\n",
       "      <td>...</td>\n",
       "    </tr>\n",
       "    <tr>\n",
       "      <th>4689</th>\n",
       "      <td>5089</td>\n",
       "      <td>Levy Isacc Madueno Santibanez</td>\n",
       "      <td>2019-10-13</td>\n",
       "      <td>shot</td>\n",
       "      <td>gun</td>\n",
       "      <td>17.0</td>\n",
       "      <td>M</td>\n",
       "      <td>H</td>\n",
       "      <td>Glendale</td>\n",
       "      <td>AZ</td>\n",
       "      <td>False</td>\n",
       "      <td>attack</td>\n",
       "      <td>Not fleeing</td>\n",
       "      <td>False</td>\n",
       "    </tr>\n",
       "    <tr>\n",
       "      <th>4729</th>\n",
       "      <td>5124</td>\n",
       "      <td>Anthony John Michael Zapier</td>\n",
       "      <td>2019-10-25</td>\n",
       "      <td>shot</td>\n",
       "      <td>vehicle</td>\n",
       "      <td>19.0</td>\n",
       "      <td>M</td>\n",
       "      <td>W</td>\n",
       "      <td>Morristown</td>\n",
       "      <td>TN</td>\n",
       "      <td>False</td>\n",
       "      <td>attack</td>\n",
       "      <td>Not fleeing</td>\n",
       "      <td>False</td>\n",
       "    </tr>\n",
       "    <tr>\n",
       "      <th>4808</th>\n",
       "      <td>5208</td>\n",
       "      <td>Kenneth Simeus</td>\n",
       "      <td>2019-11-20</td>\n",
       "      <td>shot</td>\n",
       "      <td>gun</td>\n",
       "      <td>18.0</td>\n",
       "      <td>M</td>\n",
       "      <td>B</td>\n",
       "      <td>Henderson</td>\n",
       "      <td>NV</td>\n",
       "      <td>False</td>\n",
       "      <td>attack</td>\n",
       "      <td>NaN</td>\n",
       "      <td>True</td>\n",
       "    </tr>\n",
       "    <tr>\n",
       "      <th>4832</th>\n",
       "      <td>5233</td>\n",
       "      <td>Yemerson Melendez</td>\n",
       "      <td>2019-12-01</td>\n",
       "      <td>shot</td>\n",
       "      <td>gun and vehicle</td>\n",
       "      <td>16.0</td>\n",
       "      <td>M</td>\n",
       "      <td>H</td>\n",
       "      <td>Fort Pierce</td>\n",
       "      <td>FL</td>\n",
       "      <td>False</td>\n",
       "      <td>attack</td>\n",
       "      <td>Other</td>\n",
       "      <td>False</td>\n",
       "    </tr>\n",
       "    <tr>\n",
       "      <th>4838</th>\n",
       "      <td>5388</td>\n",
       "      <td>Neil Chiago</td>\n",
       "      <td>2019-12-02</td>\n",
       "      <td>shot</td>\n",
       "      <td>gun</td>\n",
       "      <td>18.0</td>\n",
       "      <td>M</td>\n",
       "      <td>N</td>\n",
       "      <td>Mesa</td>\n",
       "      <td>AZ</td>\n",
       "      <td>False</td>\n",
       "      <td>attack</td>\n",
       "      <td>Not fleeing</td>\n",
       "      <td>False</td>\n",
       "    </tr>\n",
       "    <tr>\n",
       "      <th>4848</th>\n",
       "      <td>5254</td>\n",
       "      <td>Dominick Matt</td>\n",
       "      <td>2019-12-06</td>\n",
       "      <td>shot</td>\n",
       "      <td>gun</td>\n",
       "      <td>17.0</td>\n",
       "      <td>M</td>\n",
       "      <td>B</td>\n",
       "      <td>Bentonville</td>\n",
       "      <td>AR</td>\n",
       "      <td>False</td>\n",
       "      <td>other</td>\n",
       "      <td>Not fleeing</td>\n",
       "      <td>False</td>\n",
       "    </tr>\n",
       "    <tr>\n",
       "      <th>4873</th>\n",
       "      <td>5279</td>\n",
       "      <td>Alejandro Betancourt-Mendoza</td>\n",
       "      <td>2019-12-14</td>\n",
       "      <td>shot</td>\n",
       "      <td>knife</td>\n",
       "      <td>18.0</td>\n",
       "      <td>M</td>\n",
       "      <td>H</td>\n",
       "      <td>Pasco</td>\n",
       "      <td>WA</td>\n",
       "      <td>False</td>\n",
       "      <td>attack</td>\n",
       "      <td>Not fleeing</td>\n",
       "      <td>False</td>\n",
       "    </tr>\n",
       "    <tr>\n",
       "      <th>4913</th>\n",
       "      <td>5322</td>\n",
       "      <td>Christopher Camacho</td>\n",
       "      <td>2019-12-27</td>\n",
       "      <td>shot</td>\n",
       "      <td>gun and knife</td>\n",
       "      <td>16.0</td>\n",
       "      <td>M</td>\n",
       "      <td>H</td>\n",
       "      <td>Limerick</td>\n",
       "      <td>ME</td>\n",
       "      <td>False</td>\n",
       "      <td>other</td>\n",
       "      <td>NaN</td>\n",
       "      <td>False</td>\n",
       "    </tr>\n",
       "    <tr>\n",
       "      <th>4927</th>\n",
       "      <td>5312</td>\n",
       "      <td>TK TK</td>\n",
       "      <td>2019-12-30</td>\n",
       "      <td>shot</td>\n",
       "      <td>gun</td>\n",
       "      <td>18.0</td>\n",
       "      <td>M</td>\n",
       "      <td>B</td>\n",
       "      <td>Houston</td>\n",
       "      <td>TX</td>\n",
       "      <td>False</td>\n",
       "      <td>attack</td>\n",
       "      <td>Other</td>\n",
       "      <td>False</td>\n",
       "    </tr>\n",
       "    <tr>\n",
       "      <th>4949</th>\n",
       "      <td>5335</td>\n",
       "      <td>Kwamae Jones</td>\n",
       "      <td>2020-01-05</td>\n",
       "      <td>shot</td>\n",
       "      <td>gun</td>\n",
       "      <td>17.0</td>\n",
       "      <td>M</td>\n",
       "      <td>B</td>\n",
       "      <td>Jacksonville</td>\n",
       "      <td>FL</td>\n",
       "      <td>False</td>\n",
       "      <td>attack</td>\n",
       "      <td>Car</td>\n",
       "      <td>False</td>\n",
       "    </tr>\n",
       "    <tr>\n",
       "      <th>4952</th>\n",
       "      <td>5352</td>\n",
       "      <td>Miciah Lee</td>\n",
       "      <td>2020-01-05</td>\n",
       "      <td>shot</td>\n",
       "      <td>gun</td>\n",
       "      <td>18.0</td>\n",
       "      <td>M</td>\n",
       "      <td>B</td>\n",
       "      <td>Sparks</td>\n",
       "      <td>NV</td>\n",
       "      <td>True</td>\n",
       "      <td>other</td>\n",
       "      <td>Car</td>\n",
       "      <td>False</td>\n",
       "    </tr>\n",
       "    <tr>\n",
       "      <th>4985</th>\n",
       "      <td>5377</td>\n",
       "      <td>Murbarak Soulemane</td>\n",
       "      <td>2020-01-16</td>\n",
       "      <td>shot and Tasered</td>\n",
       "      <td>knife</td>\n",
       "      <td>19.0</td>\n",
       "      <td>M</td>\n",
       "      <td>B</td>\n",
       "      <td>West Haven</td>\n",
       "      <td>CT</td>\n",
       "      <td>False</td>\n",
       "      <td>other</td>\n",
       "      <td>Car</td>\n",
       "      <td>True</td>\n",
       "    </tr>\n",
       "    <tr>\n",
       "      <th>4986</th>\n",
       "      <td>5376</td>\n",
       "      <td>Samuel David Mallard</td>\n",
       "      <td>2020-01-17</td>\n",
       "      <td>shot</td>\n",
       "      <td>undetermined</td>\n",
       "      <td>19.0</td>\n",
       "      <td>M</td>\n",
       "      <td>B</td>\n",
       "      <td>Powder Springs</td>\n",
       "      <td>GA</td>\n",
       "      <td>False</td>\n",
       "      <td>undetermined</td>\n",
       "      <td>Car</td>\n",
       "      <td>False</td>\n",
       "    </tr>\n",
       "    <tr>\n",
       "      <th>5010</th>\n",
       "      <td>5425</td>\n",
       "      <td>D'ovion Semaj Perkins</td>\n",
       "      <td>2020-01-25</td>\n",
       "      <td>shot</td>\n",
       "      <td>gun</td>\n",
       "      <td>19.0</td>\n",
       "      <td>M</td>\n",
       "      <td>B</td>\n",
       "      <td>Aurora</td>\n",
       "      <td>CO</td>\n",
       "      <td>False</td>\n",
       "      <td>other</td>\n",
       "      <td>Car</td>\n",
       "      <td>False</td>\n",
       "    </tr>\n",
       "    <tr>\n",
       "      <th>5023</th>\n",
       "      <td>5456</td>\n",
       "      <td>Abdirahman Salad</td>\n",
       "      <td>2020-01-30</td>\n",
       "      <td>shot</td>\n",
       "      <td>gun</td>\n",
       "      <td>15.0</td>\n",
       "      <td>M</td>\n",
       "      <td>B</td>\n",
       "      <td>Columbus</td>\n",
       "      <td>OH</td>\n",
       "      <td>False</td>\n",
       "      <td>attack</td>\n",
       "      <td>Not fleeing</td>\n",
       "      <td>False</td>\n",
       "    </tr>\n",
       "    <tr>\n",
       "      <th>5029</th>\n",
       "      <td>5495</td>\n",
       "      <td>Alvin Cole</td>\n",
       "      <td>2020-02-02</td>\n",
       "      <td>shot</td>\n",
       "      <td>gun</td>\n",
       "      <td>17.0</td>\n",
       "      <td>M</td>\n",
       "      <td>B</td>\n",
       "      <td>Wauwatosa</td>\n",
       "      <td>WI</td>\n",
       "      <td>False</td>\n",
       "      <td>attack</td>\n",
       "      <td>Foot</td>\n",
       "      <td>False</td>\n",
       "    </tr>\n",
       "    <tr>\n",
       "      <th>5058</th>\n",
       "      <td>5549</td>\n",
       "      <td>Aaron Marcos Valdez</td>\n",
       "      <td>2020-02-13</td>\n",
       "      <td>shot</td>\n",
       "      <td>gun</td>\n",
       "      <td>19.0</td>\n",
       "      <td>M</td>\n",
       "      <td>H</td>\n",
       "      <td>Amarillo</td>\n",
       "      <td>TX</td>\n",
       "      <td>False</td>\n",
       "      <td>attack</td>\n",
       "      <td>Not fleeing</td>\n",
       "      <td>False</td>\n",
       "    </tr>\n",
       "    <tr>\n",
       "      <th>5065</th>\n",
       "      <td>5536</td>\n",
       "      <td>Daelyn Polu</td>\n",
       "      <td>2020-02-15</td>\n",
       "      <td>shot</td>\n",
       "      <td>gun</td>\n",
       "      <td>16.0</td>\n",
       "      <td>M</td>\n",
       "      <td>A</td>\n",
       "      <td>Achorage</td>\n",
       "      <td>AK</td>\n",
       "      <td>False</td>\n",
       "      <td>attack</td>\n",
       "      <td>Not fleeing</td>\n",
       "      <td>False</td>\n",
       "    </tr>\n",
       "    <tr>\n",
       "      <th>5074</th>\n",
       "      <td>5556</td>\n",
       "      <td>Joseph Jewell</td>\n",
       "      <td>2020-02-20</td>\n",
       "      <td>shot</td>\n",
       "      <td>gun</td>\n",
       "      <td>17.0</td>\n",
       "      <td>M</td>\n",
       "      <td>B</td>\n",
       "      <td>Columbus</td>\n",
       "      <td>OH</td>\n",
       "      <td>False</td>\n",
       "      <td>attack</td>\n",
       "      <td>Not fleeing</td>\n",
       "      <td>False</td>\n",
       "    </tr>\n",
       "    <tr>\n",
       "      <th>5088</th>\n",
       "      <td>5590</td>\n",
       "      <td>Matthew Felix</td>\n",
       "      <td>2020-02-25</td>\n",
       "      <td>shot</td>\n",
       "      <td>vehicle</td>\n",
       "      <td>19.0</td>\n",
       "      <td>M</td>\n",
       "      <td>NaN</td>\n",
       "      <td>New York</td>\n",
       "      <td>NY</td>\n",
       "      <td>False</td>\n",
       "      <td>attack</td>\n",
       "      <td>Car</td>\n",
       "      <td>False</td>\n",
       "    </tr>\n",
       "    <tr>\n",
       "      <th>5090</th>\n",
       "      <td>5592</td>\n",
       "      <td>Dylan Olmeda</td>\n",
       "      <td>2020-02-25</td>\n",
       "      <td>shot</td>\n",
       "      <td>gun</td>\n",
       "      <td>16.0</td>\n",
       "      <td>M</td>\n",
       "      <td>W</td>\n",
       "      <td>Georgetown</td>\n",
       "      <td>TX</td>\n",
       "      <td>False</td>\n",
       "      <td>attack</td>\n",
       "      <td>Not fleeing</td>\n",
       "      <td>False</td>\n",
       "    </tr>\n",
       "    <tr>\n",
       "      <th>5155</th>\n",
       "      <td>5666</td>\n",
       "      <td>Dakota Yancey</td>\n",
       "      <td>2020-03-15</td>\n",
       "      <td>shot</td>\n",
       "      <td>gun</td>\n",
       "      <td>19.0</td>\n",
       "      <td>M</td>\n",
       "      <td>W</td>\n",
       "      <td>Chase City</td>\n",
       "      <td>VA</td>\n",
       "      <td>False</td>\n",
       "      <td>other</td>\n",
       "      <td>Car</td>\n",
       "      <td>False</td>\n",
       "    </tr>\n",
       "    <tr>\n",
       "      <th>5159</th>\n",
       "      <td>5639</td>\n",
       "      <td>Dakota Wayne Yancey</td>\n",
       "      <td>2020-03-16</td>\n",
       "      <td>shot</td>\n",
       "      <td>gun</td>\n",
       "      <td>18.0</td>\n",
       "      <td>M</td>\n",
       "      <td>W</td>\n",
       "      <td>Mecklenburg</td>\n",
       "      <td>VA</td>\n",
       "      <td>False</td>\n",
       "      <td>attack</td>\n",
       "      <td>NaN</td>\n",
       "      <td>False</td>\n",
       "    </tr>\n",
       "    <tr>\n",
       "      <th>5170</th>\n",
       "      <td>5648</td>\n",
       "      <td>Kamaal Koby Edwards</td>\n",
       "      <td>2020-03-20</td>\n",
       "      <td>shot</td>\n",
       "      <td>gun</td>\n",
       "      <td>18.0</td>\n",
       "      <td>M</td>\n",
       "      <td>B</td>\n",
       "      <td>Cuthbert</td>\n",
       "      <td>GA</td>\n",
       "      <td>False</td>\n",
       "      <td>attack</td>\n",
       "      <td>Foot</td>\n",
       "      <td>False</td>\n",
       "    </tr>\n",
       "    <tr>\n",
       "      <th>5181</th>\n",
       "      <td>5688</td>\n",
       "      <td>Matthew Moore</td>\n",
       "      <td>2020-03-25</td>\n",
       "      <td>shot</td>\n",
       "      <td>gun</td>\n",
       "      <td>19.0</td>\n",
       "      <td>M</td>\n",
       "      <td>W</td>\n",
       "      <td>Pahrump</td>\n",
       "      <td>NV</td>\n",
       "      <td>False</td>\n",
       "      <td>attack</td>\n",
       "      <td>Not fleeing</td>\n",
       "      <td>True</td>\n",
       "    </tr>\n",
       "    <tr>\n",
       "      <th>5200</th>\n",
       "      <td>5704</td>\n",
       "      <td>Austin Hines</td>\n",
       "      <td>2020-04-01</td>\n",
       "      <td>shot</td>\n",
       "      <td>gun and vehicle</td>\n",
       "      <td>19.0</td>\n",
       "      <td>M</td>\n",
       "      <td>W</td>\n",
       "      <td>Columbus</td>\n",
       "      <td>MS</td>\n",
       "      <td>False</td>\n",
       "      <td>attack</td>\n",
       "      <td>Car</td>\n",
       "      <td>False</td>\n",
       "    </tr>\n",
       "    <tr>\n",
       "      <th>5221</th>\n",
       "      <td>5733</td>\n",
       "      <td>Joshua Dariandre Ruffin</td>\n",
       "      <td>2020-04-08</td>\n",
       "      <td>shot</td>\n",
       "      <td>gun</td>\n",
       "      <td>17.0</td>\n",
       "      <td>M</td>\n",
       "      <td>B</td>\n",
       "      <td>Columbia</td>\n",
       "      <td>SC</td>\n",
       "      <td>False</td>\n",
       "      <td>other</td>\n",
       "      <td>Foot</td>\n",
       "      <td>False</td>\n",
       "    </tr>\n",
       "    <tr>\n",
       "      <th>5222</th>\n",
       "      <td>5734</td>\n",
       "      <td>Zyon Romeir Wyche</td>\n",
       "      <td>2020-04-09</td>\n",
       "      <td>shot</td>\n",
       "      <td>gun</td>\n",
       "      <td>19.0</td>\n",
       "      <td>M</td>\n",
       "      <td>B</td>\n",
       "      <td>Colonial Heights</td>\n",
       "      <td>VA</td>\n",
       "      <td>False</td>\n",
       "      <td>attack</td>\n",
       "      <td>Foot</td>\n",
       "      <td>False</td>\n",
       "    </tr>\n",
       "    <tr>\n",
       "      <th>5304</th>\n",
       "      <td>5872</td>\n",
       "      <td>McHale Rose</td>\n",
       "      <td>2020-05-07</td>\n",
       "      <td>shot</td>\n",
       "      <td>gun</td>\n",
       "      <td>19.0</td>\n",
       "      <td>M</td>\n",
       "      <td>B</td>\n",
       "      <td>Indianapolis</td>\n",
       "      <td>IN</td>\n",
       "      <td>False</td>\n",
       "      <td>attack</td>\n",
       "      <td>Not fleeing</td>\n",
       "      <td>False</td>\n",
       "    </tr>\n",
       "    <tr>\n",
       "      <th>5362</th>\n",
       "      <td>5882</td>\n",
       "      <td>Robert Avitia</td>\n",
       "      <td>2020-05-26</td>\n",
       "      <td>shot</td>\n",
       "      <td>gun</td>\n",
       "      <td>18.0</td>\n",
       "      <td>M</td>\n",
       "      <td>H</td>\n",
       "      <td>Los Angeles</td>\n",
       "      <td>CA</td>\n",
       "      <td>False</td>\n",
       "      <td>attack</td>\n",
       "      <td>Foot</td>\n",
       "      <td>False</td>\n",
       "    </tr>\n",
       "  </tbody>\n",
       "</table>\n",
       "<p>277 rows × 14 columns</p>\n",
       "</div>"
      ],
      "text/plain": [
       "        id                           name        date   manner_of_death  \\\n",
       "5       11              Kenneth Joe Brown  2015-01-04              shot   \n",
       "48      90                   Isaac Holmes  2015-01-21              shot   \n",
       "51     100             Kristiana Coignard  2015-01-22  shot and Tasered   \n",
       "60      20               Jessie Hernandez  2015-01-26              shot   \n",
       "78     528                  Jacob Haglund  2015-02-02              shot   \n",
       "110    149               Jason C. Hendrix  2015-02-14              shot   \n",
       "134    176             A'Donte Washington  2015-02-23              shot   \n",
       "152    187                 Deven Guilford  2015-02-28  shot and Tasered   \n",
       "164    203                  Tony Robinson  2015-03-06              shot   \n",
       "206    229                  Brandon Jones  2015-03-19              shot   \n",
       "208    265                  Kendre Alston  2015-03-19              shot   \n",
       "252    296                  Justus Howell  2015-04-04              shot   \n",
       "287    380                   Jeffrey Kemp  2015-04-17              shot   \n",
       "299    391                William Chapman  2015-04-22              shot   \n",
       "306    409                 Hector Morejon  2015-04-23              shot   \n",
       "339    432          David William Johnson  2015-05-06              shot   \n",
       "360    459                 Austin Goodner  2015-05-17              shot   \n",
       "364    465                  David  Gaines  2015-05-19              shot   \n",
       "392    494                     Kyle Baker  2015-05-28  shot and Tasered   \n",
       "396    500            Ebin Lamont Proctor  2015-05-30              shot   \n",
       "403    509                Miguel Martinez  2015-06-03              shot   \n",
       "424    540                  Isiah Hampton  2015-06-10              shot   \n",
       "430    553               Shelly Haendiges  2015-06-12              shot   \n",
       "435    551                    Zane Terryn  2015-06-14              shot   \n",
       "479    592                    John Deming  2015-07-05              shot   \n",
       "488    608      Marcellus Jamarcus Burley  2015-07-07              shot   \n",
       "501    625                  Cyrus Hurtado  2015-07-09              shot   \n",
       "529    657                Darrius Stewart  2015-07-17              shot   \n",
       "556    680                Zachary Hammond  2015-07-26              shot   \n",
       "573    698                  Joshua Malave  2015-08-03              shot   \n",
       "...    ...                            ...         ...               ...   \n",
       "4689  5089  Levy Isacc Madueno Santibanez  2019-10-13              shot   \n",
       "4729  5124    Anthony John Michael Zapier  2019-10-25              shot   \n",
       "4808  5208                 Kenneth Simeus  2019-11-20              shot   \n",
       "4832  5233              Yemerson Melendez  2019-12-01              shot   \n",
       "4838  5388                    Neil Chiago  2019-12-02              shot   \n",
       "4848  5254                  Dominick Matt  2019-12-06              shot   \n",
       "4873  5279   Alejandro Betancourt-Mendoza  2019-12-14              shot   \n",
       "4913  5322            Christopher Camacho  2019-12-27              shot   \n",
       "4927  5312                          TK TK  2019-12-30              shot   \n",
       "4949  5335                   Kwamae Jones  2020-01-05              shot   \n",
       "4952  5352                     Miciah Lee  2020-01-05              shot   \n",
       "4985  5377             Murbarak Soulemane  2020-01-16  shot and Tasered   \n",
       "4986  5376           Samuel David Mallard  2020-01-17              shot   \n",
       "5010  5425          D'ovion Semaj Perkins  2020-01-25              shot   \n",
       "5023  5456               Abdirahman Salad  2020-01-30              shot   \n",
       "5029  5495                     Alvin Cole  2020-02-02              shot   \n",
       "5058  5549            Aaron Marcos Valdez  2020-02-13              shot   \n",
       "5065  5536                    Daelyn Polu  2020-02-15              shot   \n",
       "5074  5556                  Joseph Jewell  2020-02-20              shot   \n",
       "5088  5590                  Matthew Felix  2020-02-25              shot   \n",
       "5090  5592                   Dylan Olmeda  2020-02-25              shot   \n",
       "5155  5666                  Dakota Yancey  2020-03-15              shot   \n",
       "5159  5639            Dakota Wayne Yancey  2020-03-16              shot   \n",
       "5170  5648            Kamaal Koby Edwards  2020-03-20              shot   \n",
       "5181  5688                  Matthew Moore  2020-03-25              shot   \n",
       "5200  5704                   Austin Hines  2020-04-01              shot   \n",
       "5221  5733        Joshua Dariandre Ruffin  2020-04-08              shot   \n",
       "5222  5734              Zyon Romeir Wyche  2020-04-09              shot   \n",
       "5304  5872                    McHale Rose  2020-05-07              shot   \n",
       "5362  5882                  Robert Avitia  2020-05-26              shot   \n",
       "\n",
       "                 armed   age gender race              city state  \\\n",
       "5                  gun  18.0      M    W           Guthrie    OK   \n",
       "48                 gun  19.0      M    B         St. Louis    MO   \n",
       "51               knife  17.0      F    W          Longview    TX   \n",
       "60                 NaN  17.0      F    H            Denver    CO   \n",
       "78                 gun  17.0      M    W          Bay City    MI   \n",
       "110                gun  16.0      M    W             Essex    MD   \n",
       "134                gun  16.0      M    B         Millbrook    AL   \n",
       "152            unarmed  17.0      M    W   Roxand Township    MI   \n",
       "164            unarmed  19.0      M    B           Madison    WI   \n",
       "206            unarmed  18.0      M    B         Cleveland    OH   \n",
       "208                gun  16.0      M    B      Jacksonville    FL   \n",
       "252                gun  17.0      M    B              Zion    IL   \n",
       "287                gun  18.0      M    B           Chicago    IL   \n",
       "299            unarmed  18.0      M    B        Portsmouth    VA   \n",
       "306            unarmed  19.0      M    H        Long Beach    CA   \n",
       "339                gun  18.0      M    W       Wake Forest    NC   \n",
       "360                gun  18.0      M    W    St. Petersburg    FL   \n",
       "364                gun  17.0      M    W    Grand Junction    CO   \n",
       "392   lawn mower blade  18.0      M    W           Trenton    MI   \n",
       "396            unarmed  19.0      M    W        Cottonwood    AZ   \n",
       "403                gun  18.0      M    H      Ellis County    TX   \n",
       "424                gun  19.0      M    B             Bronx    NY   \n",
       "430         toy weapon  17.0      F    W            Kokomo    IN   \n",
       "435                gun  15.0      M    W             Cocoa    FL   \n",
       "479            unarmed  19.0      M    W        Pleasanton    CA   \n",
       "488                gun  18.0      M    B           Houston    TX   \n",
       "501                gun  17.0      M    W     Boulder Creek    CA   \n",
       "529            unarmed  19.0      M    B           Memphis    TN   \n",
       "556                NaN  19.0      M    W            Seneca    SC   \n",
       "573                gun  18.0      M    W      Campbelltown    PA   \n",
       "...                ...   ...    ...  ...               ...   ...   \n",
       "4689               gun  17.0      M    H          Glendale    AZ   \n",
       "4729           vehicle  19.0      M    W        Morristown    TN   \n",
       "4808               gun  18.0      M    B         Henderson    NV   \n",
       "4832   gun and vehicle  16.0      M    H       Fort Pierce    FL   \n",
       "4838               gun  18.0      M    N              Mesa    AZ   \n",
       "4848               gun  17.0      M    B       Bentonville    AR   \n",
       "4873             knife  18.0      M    H             Pasco    WA   \n",
       "4913     gun and knife  16.0      M    H          Limerick    ME   \n",
       "4927               gun  18.0      M    B           Houston    TX   \n",
       "4949               gun  17.0      M    B      Jacksonville    FL   \n",
       "4952               gun  18.0      M    B            Sparks    NV   \n",
       "4985             knife  19.0      M    B        West Haven    CT   \n",
       "4986      undetermined  19.0      M    B    Powder Springs    GA   \n",
       "5010               gun  19.0      M    B            Aurora    CO   \n",
       "5023               gun  15.0      M    B          Columbus    OH   \n",
       "5029               gun  17.0      M    B         Wauwatosa    WI   \n",
       "5058               gun  19.0      M    H          Amarillo    TX   \n",
       "5065               gun  16.0      M    A          Achorage    AK   \n",
       "5074               gun  17.0      M    B          Columbus    OH   \n",
       "5088           vehicle  19.0      M  NaN          New York    NY   \n",
       "5090               gun  16.0      M    W        Georgetown    TX   \n",
       "5155               gun  19.0      M    W        Chase City    VA   \n",
       "5159               gun  18.0      M    W       Mecklenburg    VA   \n",
       "5170               gun  18.0      M    B          Cuthbert    GA   \n",
       "5181               gun  19.0      M    W           Pahrump    NV   \n",
       "5200   gun and vehicle  19.0      M    W          Columbus    MS   \n",
       "5221               gun  17.0      M    B          Columbia    SC   \n",
       "5222               gun  19.0      M    B  Colonial Heights    VA   \n",
       "5304               gun  19.0      M    B      Indianapolis    IN   \n",
       "5362               gun  18.0      M    H       Los Angeles    CA   \n",
       "\n",
       "      signs_of_mental_illness  threat_level         flee  body_camera  \n",
       "5                       False        attack  Not fleeing        False  \n",
       "48                      False        attack  Not fleeing        False  \n",
       "51                       True         other  Not fleeing        False  \n",
       "60                      False         other  Not fleeing        False  \n",
       "78                      False        attack  Not fleeing        False  \n",
       "110                      True        attack          Car        False  \n",
       "134                     False        attack  Not fleeing        False  \n",
       "152                     False        attack  Not fleeing         True  \n",
       "164                     False        attack         Foot        False  \n",
       "206                     False        attack  Not fleeing        False  \n",
       "208                     False        attack          Car        False  \n",
       "252                     False        attack         Foot        False  \n",
       "287                     False        attack         Foot        False  \n",
       "299                     False  undetermined  Not fleeing        False  \n",
       "306                     False         other  Not fleeing        False  \n",
       "339                     False        attack          Car        False  \n",
       "360                      True        attack  Not fleeing        False  \n",
       "364                     False        attack        Other        False  \n",
       "392                     False        attack  Not fleeing        False  \n",
       "396                     False        attack         Foot        False  \n",
       "403                      True        attack          Car        False  \n",
       "424                     False        attack  Not fleeing        False  \n",
       "430                      True        attack  Not fleeing        False  \n",
       "435                      True        attack  Not fleeing        False  \n",
       "479                     False        attack         Foot        False  \n",
       "488                     False        attack  Not fleeing        False  \n",
       "501                      True        attack  Not fleeing        False  \n",
       "529                     False        attack         Foot        False  \n",
       "556                     False         other        Other        False  \n",
       "573                     False        attack         Foot        False  \n",
       "...                       ...           ...          ...          ...  \n",
       "4689                    False        attack  Not fleeing        False  \n",
       "4729                    False        attack  Not fleeing        False  \n",
       "4808                    False        attack          NaN         True  \n",
       "4832                    False        attack        Other        False  \n",
       "4838                    False        attack  Not fleeing        False  \n",
       "4848                    False         other  Not fleeing        False  \n",
       "4873                    False        attack  Not fleeing        False  \n",
       "4913                    False         other          NaN        False  \n",
       "4927                    False        attack        Other        False  \n",
       "4949                    False        attack          Car        False  \n",
       "4952                     True         other          Car        False  \n",
       "4985                    False         other          Car         True  \n",
       "4986                    False  undetermined          Car        False  \n",
       "5010                    False         other          Car        False  \n",
       "5023                    False        attack  Not fleeing        False  \n",
       "5029                    False        attack         Foot        False  \n",
       "5058                    False        attack  Not fleeing        False  \n",
       "5065                    False        attack  Not fleeing        False  \n",
       "5074                    False        attack  Not fleeing        False  \n",
       "5088                    False        attack          Car        False  \n",
       "5090                    False        attack  Not fleeing        False  \n",
       "5155                    False         other          Car        False  \n",
       "5159                    False        attack          NaN        False  \n",
       "5170                    False        attack         Foot        False  \n",
       "5181                    False        attack  Not fleeing         True  \n",
       "5200                    False        attack          Car        False  \n",
       "5221                    False         other         Foot        False  \n",
       "5222                    False        attack         Foot        False  \n",
       "5304                    False        attack  Not fleeing        False  \n",
       "5362                    False        attack         Foot        False  \n",
       "\n",
       "[277 rows x 14 columns]"
      ]
     },
     "execution_count": 62,
     "metadata": {},
     "output_type": "execute_result"
    }
   ],
   "source": [
    "WP[WP[\"age\"] <= 19 ]"
   ]
  },
  {
   "cell_type": "markdown",
   "metadata": {},
   "source": [
    "## The Guardian Data Analysis and Visualization\n",
    "This data has been cleaned and formatted by UMass and is available at https://github.com/slanglab/policefatalities_emnlp2017/blob/master/data/gold/guardian/guard-raw.csv"
   ]
  },
  {
   "cell_type": "code",
   "execution_count": 65,
   "metadata": {},
   "outputs": [],
   "source": [
    "guardian = pd.read_csv(\"Data/guard-raw.csv\")"
   ]
  },
  {
   "cell_type": "code",
   "execution_count": 70,
   "metadata": {},
   "outputs": [
    {
     "data": {
      "text/html": [
       "<div>\n",
       "<style scoped>\n",
       "    .dataframe tbody tr th:only-of-type {\n",
       "        vertical-align: middle;\n",
       "    }\n",
       "\n",
       "    .dataframe tbody tr th {\n",
       "        vertical-align: top;\n",
       "    }\n",
       "\n",
       "    .dataframe thead th {\n",
       "        text-align: right;\n",
       "    }\n",
       "</style>\n",
       "<table border=\"1\" class=\"dataframe\">\n",
       "  <thead>\n",
       "    <tr style=\"text-align: right;\">\n",
       "      <th></th>\n",
       "      <th>uid</th>\n",
       "      <th>name</th>\n",
       "      <th>age</th>\n",
       "      <th>gender</th>\n",
       "      <th>raceethnicity</th>\n",
       "      <th>month</th>\n",
       "      <th>day</th>\n",
       "      <th>year</th>\n",
       "      <th>streetaddress</th>\n",
       "      <th>city</th>\n",
       "      <th>state</th>\n",
       "      <th>classification</th>\n",
       "      <th>lawenforcementagency</th>\n",
       "      <th>armed</th>\n",
       "    </tr>\n",
       "  </thead>\n",
       "  <tbody>\n",
       "    <tr>\n",
       "      <th>0</th>\n",
       "      <td>20161</td>\n",
       "      <td>Joshua Sisson</td>\n",
       "      <td>30</td>\n",
       "      <td>Male</td>\n",
       "      <td>White</td>\n",
       "      <td>January</td>\n",
       "      <td>1</td>\n",
       "      <td>2016</td>\n",
       "      <td>4200 6th Ave</td>\n",
       "      <td>San Diego</td>\n",
       "      <td>CA</td>\n",
       "      <td>Gunshot</td>\n",
       "      <td>San Diego Police Department</td>\n",
       "      <td>Knife</td>\n",
       "    </tr>\n",
       "    <tr>\n",
       "      <th>1</th>\n",
       "      <td>20162</td>\n",
       "      <td>Germonta Wallace</td>\n",
       "      <td>30</td>\n",
       "      <td>Male</td>\n",
       "      <td>Black</td>\n",
       "      <td>January</td>\n",
       "      <td>3</td>\n",
       "      <td>2016</td>\n",
       "      <td>2600 Watson Dr</td>\n",
       "      <td>Charlotte</td>\n",
       "      <td>NC</td>\n",
       "      <td>Gunshot</td>\n",
       "      <td>Charlotte-Mecklenburg Police Department</td>\n",
       "      <td>Firearm</td>\n",
       "    </tr>\n",
       "    <tr>\n",
       "      <th>2</th>\n",
       "      <td>20163</td>\n",
       "      <td>Sean O'Brien</td>\n",
       "      <td>37</td>\n",
       "      <td>Male</td>\n",
       "      <td>White</td>\n",
       "      <td>January</td>\n",
       "      <td>2</td>\n",
       "      <td>2016</td>\n",
       "      <td>100 Washington St</td>\n",
       "      <td>Livingston</td>\n",
       "      <td>MT</td>\n",
       "      <td>Gunshot</td>\n",
       "      <td>Livingston Police Department</td>\n",
       "      <td>Knife</td>\n",
       "    </tr>\n",
       "    <tr>\n",
       "      <th>3</th>\n",
       "      <td>20164</td>\n",
       "      <td>Rodney Turner</td>\n",
       "      <td>22</td>\n",
       "      <td>Male</td>\n",
       "      <td>Black</td>\n",
       "      <td>January</td>\n",
       "      <td>4</td>\n",
       "      <td>2016</td>\n",
       "      <td>3600 NW 42nd St</td>\n",
       "      <td>Oklahoma City</td>\n",
       "      <td>OK</td>\n",
       "      <td>Gunshot</td>\n",
       "      <td>Oklahoma City Police Department</td>\n",
       "      <td>Firearm</td>\n",
       "    </tr>\n",
       "    <tr>\n",
       "      <th>4</th>\n",
       "      <td>20165</td>\n",
       "      <td>Eric Senegal</td>\n",
       "      <td>27</td>\n",
       "      <td>Male</td>\n",
       "      <td>Black</td>\n",
       "      <td>January</td>\n",
       "      <td>4</td>\n",
       "      <td>2016</td>\n",
       "      <td>Gene Stanley Rd</td>\n",
       "      <td>Ragley</td>\n",
       "      <td>LA</td>\n",
       "      <td>Gunshot</td>\n",
       "      <td>Beauregard Parish Sheriff's Office</td>\n",
       "      <td>Unknown</td>\n",
       "    </tr>\n",
       "  </tbody>\n",
       "</table>\n",
       "</div>"
      ],
      "text/plain": [
       "     uid              name age gender raceethnicity    month  day  year  \\\n",
       "0  20161     Joshua Sisson  30   Male         White  January    1  2016   \n",
       "1  20162  Germonta Wallace  30   Male         Black  January    3  2016   \n",
       "2  20163      Sean O'Brien  37   Male         White  January    2  2016   \n",
       "3  20164     Rodney Turner  22   Male         Black  January    4  2016   \n",
       "4  20165      Eric Senegal  27   Male         Black  January    4  2016   \n",
       "\n",
       "       streetaddress           city state classification  \\\n",
       "0       4200 6th Ave      San Diego    CA        Gunshot   \n",
       "1     2600 Watson Dr      Charlotte    NC        Gunshot   \n",
       "2  100 Washington St     Livingston    MT        Gunshot   \n",
       "3    3600 NW 42nd St  Oklahoma City    OK        Gunshot   \n",
       "4    Gene Stanley Rd         Ragley    LA        Gunshot   \n",
       "\n",
       "                      lawenforcementagency    armed  \n",
       "0              San Diego Police Department    Knife  \n",
       "1  Charlotte-Mecklenburg Police Department  Firearm  \n",
       "2             Livingston Police Department    Knife  \n",
       "3          Oklahoma City Police Department  Firearm  \n",
       "4       Beauregard Parish Sheriff's Office  Unknown  "
      ]
     },
     "execution_count": 70,
     "metadata": {},
     "output_type": "execute_result"
    }
   ],
   "source": [
    "guardian.head() # first five observations"
   ]
  },
  {
   "cell_type": "code",
   "execution_count": 67,
   "metadata": {},
   "outputs": [
    {
     "data": {
      "text/plain": [
       "14952"
      ]
     },
     "execution_count": 67,
     "metadata": {},
     "output_type": "execute_result"
    }
   ],
   "source": [
    "guardian.size # number of observations in the dataset"
   ]
  },
  {
   "cell_type": "code",
   "execution_count": 68,
   "metadata": {},
   "outputs": [
    {
     "data": {
      "text/plain": [
       "Index(['uid', 'name', 'age', 'gender', 'raceethnicity', 'month', 'day', 'year',\n",
       "       'streetaddress', 'city', 'state', 'classification',\n",
       "       'lawenforcementagency', 'armed'],\n",
       "      dtype='object')"
      ]
     },
     "execution_count": 68,
     "metadata": {},
     "output_type": "execute_result"
    }
   ],
   "source": [
    "guardian.columns # names of the columns/labels in the dataframe"
   ]
  },
  {
   "cell_type": "code",
   "execution_count": 69,
   "metadata": {},
   "outputs": [
    {
     "data": {
      "text/plain": [
       "uid                      int64\n",
       "name                    object\n",
       "age                     object\n",
       "gender                  object\n",
       "raceethnicity           object\n",
       "month                   object\n",
       "day                      int64\n",
       "year                     int64\n",
       "streetaddress           object\n",
       "city                    object\n",
       "state                   object\n",
       "classification          object\n",
       "lawenforcementagency    object\n",
       "armed                   object\n",
       "dtype: object"
      ]
     },
     "execution_count": 69,
     "metadata": {},
     "output_type": "execute_result"
    }
   ],
   "source": [
    "guardian.dtypes # types of the labels in the dataframe"
   ]
  },
  {
   "cell_type": "code",
   "execution_count": 72,
   "metadata": {},
   "outputs": [],
   "source": [
    "guard_age = guardian['age'].value_counts() # count frequency of ages\n",
    "#guard_age"
   ]
  },
  {
   "cell_type": "code",
   "execution_count": 73,
   "metadata": {},
   "outputs": [
    {
     "data": {
      "text/plain": [
       "White                     558\n",
       "Black                     258\n",
       "Hispanic/Latino           183\n",
       "Unknown                    24\n",
       "Native American            21\n",
       "Asian/Pacific Islander     21\n",
       "Arab-American               3\n",
       "Name: raceethnicity, dtype: int64"
      ]
     },
     "execution_count": 73,
     "metadata": {},
     "output_type": "execute_result"
    }
   ],
   "source": [
    "guard_race = guardian['raceethnicity'].value_counts() # count frequency at which each race appears in the dataset\n",
    "guard_race"
   ]
  },
  {
   "cell_type": "code",
   "execution_count": 103,
   "metadata": {},
   "outputs": [
    {
     "data": {
      "text/plain": [
       "([0, 1, 2, 3, 4, 5, 6], <a list of 7 Text xticklabel objects>)"
      ]
     },
     "execution_count": 103,
     "metadata": {},
     "output_type": "execute_result"
    },
    {
     "data": {
      "image/png": "[encoded data removed]",
      "text/plain": [
       "<Figure size 432x288 with 1 Axes>"
      ]
     },
     "metadata": {},
     "output_type": "display_data"
    }
   ],
   "source": [
    "# This is a bar graph for police fatalities by race\n",
    "guard_race = [\"White\", \"Black\", \"Hispanic/Latino\", \"Unknown\", \"Native American\", \"Asian/Pacific Islander\", \"Arab-American\"]\n",
    "guard_race_num = [558, 258, 183, 24, 21, 21, 3]\n",
    "\n",
    "plt.bar(guard_race, guard_race_num)\n",
    "plt.xlabel(\"Race\")\n",
    "plt.ylabel('Frequency')\n",
    "plt.title('Frequency of Police Fatalities by Race')\n",
    "plt.xticks(rotation=30)"
   ]
  },
  {
   "cell_type": "code",
   "execution_count": 91,
   "metadata": {},
   "outputs": [
    {
     "data": {
      "text/plain": [
       "February     100\n",
       "March        100\n",
       "June          98\n",
       "August        94\n",
       "November      91\n",
       "January       87\n",
       "May           86\n",
       "July          86\n",
       "October       85\n",
       "April         84\n",
       "September     82\n",
       "December      75\n",
       "Name: month, dtype: int64"
      ]
     },
     "execution_count": 91,
     "metadata": {},
     "output_type": "execute_result"
    }
   ],
   "source": [
    "guard_month = guardian['month'].value_counts() # count the frequency at which each month appears in the dataset\n",
    "guard_month"
   ]
  },
  {
   "cell_type": "code",
   "execution_count": 102,
   "metadata": {},
   "outputs": [
    {
     "data": {
      "text/plain": [
       "([0, 1, 2, 3, 4, 5, 6, 7, 8, 9, 10, 11],\n",
       " <a list of 12 Text xticklabel objects>)"
      ]
     },
     "execution_count": 102,
     "metadata": {},
     "output_type": "execute_result"
    },
    {
     "data": {
      "image/png": "[encoded data removed]",
      "text/plain": [
       "<Figure size 432x288 with 1 Axes>"
      ]
     },
     "metadata": {},
     "output_type": "display_data"
    }
   ],
   "source": [
    "# This is a bar graph for police fatalities by month in 2016\n",
    "guard_month = [\"February\", \"March\", \"June\", \"August\", \"November\", \"January\", \"May\", \"July\", \\\n",
    "               \"October\", \"April\", \"September\", \"December\"]\n",
    "guard_month_num = [100, 100, 98, 94, 91, 87, 86, 86, 85, 84, 82, 75]\n",
    "\n",
    "plt.bar(guard_month, guard_month_num)\n",
    "plt.xlabel(\"Month\")\n",
    "plt.ylabel('Frequency')\n",
    "plt.title('Frequency of Police Fatalities by Month (2016)')\n",
    "plt.xticks(rotation=90)"
   ]
  },
  {
   "cell_type": "code",
   "execution_count": 92,
   "metadata": {},
   "outputs": [
    {
     "data": {
      "text/plain": [
       "2016    1068\n",
       "Name: year, dtype: int64"
      ]
     },
     "execution_count": 92,
     "metadata": {},
     "output_type": "execute_result"
    }
   ],
   "source": [
    "guard_year = guardian['year'].value_counts() # count frequency of years in the dataset\n",
    "guard_year"
   ]
  },
  {
   "cell_type": "code",
   "execution_count": 93,
   "metadata": {},
   "outputs": [
    {
     "data": {
      "text/plain": [
       "CA    160\n",
       "TX     91\n",
       "FL     68\n",
       "AZ     48\n",
       "NC     35\n",
       "CO     32\n",
       "OK     31\n",
       "GA     30\n",
       "IL     28\n",
       "OH     28\n",
       "WA     27\n",
       "AL     27\n",
       "NY     24\n",
       "TN     24\n",
       "MO     23\n",
       "AR     22\n",
       "NM     22\n",
       "PA     22\n",
       "LA     21\n",
       "KY     21\n",
       "VA     19\n",
       "WI     18\n",
       "SC     18\n",
       "MD     17\n",
       "OR     17\n",
       "IN     17\n",
       "MI     16\n",
       "NV     15\n",
       "NJ     14\n",
       "MA     14\n",
       "MN     13\n",
       "WV     13\n",
       "KS     11\n",
       "MS      9\n",
       "UT      8\n",
       "NE      8\n",
       "AK      7\n",
       "HI      7\n",
       "SD      6\n",
       "DC      5\n",
       "MT      5\n",
       "ID      5\n",
       "IA      5\n",
       "CT      5\n",
       "RI      2\n",
       "ME      2\n",
       "WY      2\n",
       "VT      2\n",
       "NH      2\n",
       "ND      1\n",
       "DE      1\n",
       "Name: state, dtype: int64"
      ]
     },
     "execution_count": 93,
     "metadata": {},
     "output_type": "execute_result"
    }
   ],
   "source": [
    "guard_state = guardian['state'].value_counts() # count the frequency of each state in the dataset\n",
    "guard_state"
   ]
  },
  {
   "cell_type": "code",
   "execution_count": 94,
   "metadata": {},
   "outputs": [
    {
     "data": {
      "text/plain": [
       "([0, 1, 2, 3, 4, 5, 6, 7, 8, 9], <a list of 10 Text xticklabel objects>)"
      ]
     },
     "execution_count": 94,
     "metadata": {},
     "output_type": "execute_result"
    },
    {
     "data": {
      "image/png": "[encoded data removed]",
      "text/plain": [
       "<Figure size 432x288 with 1 Axes>"
      ]
     },
     "metadata": {},
     "output_type": "display_data"
    }
   ],
   "source": [
    "# This is a bar graph for police fatalities by state (top ten)\n",
    "guard_state = [\"CA\", \"TX\", \"FL\", \"AZ\", \"NC\", \"CO\", \"OK\", \"GA\", \"IL\", \"OH\"]\n",
    "guard_state_num = [160, 91, 68, 48, 35, 32, 31, 30, 28, 28]\n",
    "\n",
    "plt.bar(guard_state, guard_state_num)\n",
    "plt.xlabel(\"State\")\n",
    "plt.ylabel('Frequency')\n",
    "plt.title('Frequency of Police Fatalities by State (Top Ten)')\n",
    "plt.xticks(rotation=30)"
   ]
  },
  {
   "cell_type": "code",
   "execution_count": 95,
   "metadata": {},
   "outputs": [
    {
     "data": {
      "text/plain": [
       "Gunshot              998\n",
       "Death in custody      33\n",
       "Taser                 21\n",
       "Struck by vehicle     15\n",
       "Other                  1\n",
       "Name: classification, dtype: int64"
      ]
     },
     "execution_count": 95,
     "metadata": {},
     "output_type": "execute_result"
    }
   ],
   "source": [
    "guard_class = guardian['classification'].value_counts()\n",
    "guard_class"
   ]
  },
  {
   "cell_type": "code",
   "execution_count": 96,
   "metadata": {},
   "outputs": [
    {
     "data": {
      "text/plain": [
       "([0, 1, 2, 3, 4], <a list of 5 Text xticklabel objects>)"
      ]
     },
     "execution_count": 96,
     "metadata": {},
     "output_type": "execute_result"
    },
    {
     "data": {
      "image/png": "[encoded data removed]",
      "text/plain": [
       "<Figure size 432x288 with 1 Axes>"
      ]
     },
     "metadata": {},
     "output_type": "display_data"
    }
   ],
   "source": [
    "# This is a bar graph for how the victims were murdered\n",
    "guard_class = [\"Gunshot\", \"Death in custody\", \"Taser\", \"Struck by vehicle\", \"Other\"]\n",
    "guard_class_num = [998, 33, 21, 15, 1]\n",
    "\n",
    "plt.bar(guard_class, guard_class_num)\n",
    "plt.xlabel(\"Manner of Death\")\n",
    "plt.ylabel('Frequency')\n",
    "plt.title('Frequency of Police Fatalities by Manner of Death')\n",
    "plt.xticks(rotation=30)"
   ]
  },
  {
   "cell_type": "code",
   "execution_count": 97,
   "metadata": {},
   "outputs": [
    {
     "data": {
      "text/plain": [
       "Los Angeles Police Department                                      19\n",
       "Los Angeles County Sheriff's Department                            17\n",
       "Unknown                                                            16\n",
       "Phoenix Police Department                                          15\n",
       "New York Police Department                                         11\n",
       "Chicago Police Department                                          11\n",
       "San Antonio Police Department                                       9\n",
       "United States Marshals Service                                      8\n",
       "Tulsa Police Department                                             8\n",
       "California Highway Patrol                                           7\n",
       "Houston Police Department                                           7\n",
       "Kentucky State Police                                               6\n",
       "Austin Police Department                                            6\n",
       "Shelby County Sheriff's Office                                      6\n",
       "Columbus Division of Police                                         6\n",
       "Hawaii Police Department                                            6\n",
       "Norfolk Police Department                                           5\n",
       "Tucson Police Department                                            5\n",
       "Newark Police Department                                            5\n",
       "Charlotte-Mecklenburg Police Department                             5\n",
       "Dallas Police Department                                            5\n",
       "Oklahoma City Police Department                                     5\n",
       "Philadelphia Police Department                                      5\n",
       "Pinellas County Sheriff's Office                                    5\n",
       "Denver Police Department                                            5\n",
       "Baltimore Police Department                                         4\n",
       "Washington Metropolitan Police Department                           4\n",
       "Santa Ana Police Department                                         4\n",
       "Cincinnati Police Department                                        4\n",
       "Las Vegas Metropolitan Police Department                            4\n",
       "                                                                   ..\n",
       "Wagoner Police Department                                           1\n",
       "Larwrence Police Department                                         1\n",
       "Colorado River Indian Tribes Police Department                      1\n",
       "Lansing Police Department                                           1\n",
       "Orlando Police Department, Orange County Sheriff's Office           1\n",
       "Kerrville Police Department                                         1\n",
       "Greeley Police Department, LaSalle Police Department                1\n",
       "Mission Police Department                                           1\n",
       "Yuma County Sheriff's Office                                        1\n",
       "Laurel County Constable's Office                                    1\n",
       "San Fernando Police Department                                      1\n",
       "Thomaston Police Department                                         1\n",
       "Michigan State Police, FBI                                          1\n",
       "Pontotoc County Sheriff's Office                                    1\n",
       "Fairfield Police Department                                         1\n",
       "Jasper County Sheriff's Office, Hardeeville Police                  1\n",
       "St Lucie County Sheriff's Office                                    1\n",
       "West Jordan Police Department                                       1\n",
       "Manatee County Sheriff’s Office                                     1\n",
       "Rotterdam Police Department                                         1\n",
       "Putnam County Sheriff's Department                                  1\n",
       "Tacoma Police Department                                            1\n",
       "Addis Police Department                                             1\n",
       "Massachusetts State Police                                          1\n",
       "Pasadena Police Department                                          1\n",
       "Presque Isle Police Department                                      1\n",
       "Pinal County Sheriff's Office, Maricopa County Sheriff's Office     1\n",
       "Forks Township Police Department                                    1\n",
       "Mountain Pine Police Department                                     1\n",
       "Fort Madison Police Department                                      1\n",
       "Name: lawenforcementagency, Length: 698, dtype: int64"
      ]
     },
     "execution_count": 97,
     "metadata": {},
     "output_type": "execute_result"
    }
   ],
   "source": [
    "guard_agency = guardian['lawenforcementagency'].value_counts()\n",
    "guard_agency"
   ]
  },
  {
   "cell_type": "code",
   "execution_count": 98,
   "metadata": {},
   "outputs": [
    {
     "data": {
      "text/plain": [
       "([0, 1, 2, 3, 4, 5, 6, 7, 8, 9, 10], <a list of 11 Text xticklabel objects>)"
      ]
     },
     "execution_count": 98,
     "metadata": {},
     "output_type": "execute_result"
    },
    {
     "data": {
      "image/png": "[encoded data removed]",
      "text/plain": [
       "<Figure size 432x288 with 1 Axes>"
      ]
     },
     "metadata": {},
     "output_type": "display_data"
    }
   ],
   "source": [
    "# This is a bar graph for top ten agencies with most reported fatalities\n",
    "guardian_agency = [\"LAPD\", \"LA CO Sheriff's Dept\", \"Unknown\", \\\n",
    "                   \"Phoenix PD\", \"NYPD\", \"Chicago PD\", \\\n",
    "                   \"San Antonio PD\", \"US Marshals Service\", \"Tulsa PD\", \\\n",
    "                   \"CA Highway Patrol\", \"Houston PD\"]\n",
    "guardian_agency_num = [19, 17, 16, 15, 11, 11, 9, 8, 8, 7, 7]\n",
    "\n",
    "plt.bar(guardian_agency, guardian_agency_num)\n",
    "plt.xlabel(\"Law Enforcement Agency\")\n",
    "plt.ylabel('Frequency')\n",
    "plt.title('Frequency of Police Fatalities by Law Enforcement Agency')\n",
    "plt.xticks(rotation=90)"
   ]
  },
  {
   "cell_type": "code",
   "execution_count": 99,
   "metadata": {},
   "outputs": [
    {
     "data": {
      "text/plain": [
       "Firearm               499\n",
       "Knife                 155\n",
       "No                    149\n",
       "Unknown               106\n",
       "Other                  70\n",
       "Non-lethal firearm     45\n",
       "Vehicle                34\n",
       "Disputed               10\n",
       "Name: armed, dtype: int64"
      ]
     },
     "execution_count": 99,
     "metadata": {},
     "output_type": "execute_result"
    }
   ],
   "source": [
    "guard_armed = guardian['armed'].value_counts()\n",
    "guard_armed"
   ]
  },
  {
   "cell_type": "code",
   "execution_count": 100,
   "metadata": {},
   "outputs": [
    {
     "data": {
      "text/plain": [
       "([0, 1, 2, 3, 4, 5, 6, 7], <a list of 8 Text xticklabel objects>)"
      ]
     },
     "execution_count": 100,
     "metadata": {},
     "output_type": "execute_result"
    },
    {
     "data": {
      "image/png": "[encoded data removed]",
      "text/plain": [
       "<Figure size 432x288 with 1 Axes>"
      ]
     },
     "metadata": {},
     "output_type": "display_data"
    }
   ],
   "source": [
    "# This is a bar graph for whether a victim was armed or not\n",
    "guard_armed = [\"Firearm\", \"Knife\", \"None\", \"Unknown\", \"Other\", \"Non-lethal firearm\", \"Vehicle\", \"Disputed\"]\n",
    "guard_armed_num = [499, 155, 149, 106, 70, 45, 34, 10]\n",
    "\n",
    "plt.bar(guard_armed, guard_armed_num)\n",
    "plt.xlabel(\"Armery or Lack Thereof\")\n",
    "plt.ylabel('Frequency')\n",
    "plt.title('Frequency of Police Fatalities by Being Armed or Not')\n",
    "plt.xticks(rotation=30)"
   ]
  },
  {
   "cell_type": "markdown",
   "metadata": {},
   "source": [
    "## Fatal Encounters Data Analysis and Visualization\n",
    "Link: https://docs.google.com/spreadsheets/d/1dKmaV_JiWcG8XBoRgP8b4e9Eopkpgt7FL7nyspvzAsE/edit#gid=0"
   ]
  },
  {
   "cell_type": "code",
   "execution_count": 104,
   "metadata": {},
   "outputs": [],
   "source": [
    "FE = pd.read_csv(\"Data/fatal_encounters_dataset.csv\")"
   ]
  },
  {
   "cell_type": "code",
   "execution_count": 105,
   "metadata": {},
   "outputs": [
    {
     "data": {
      "text/plain": [
       "789908"
      ]
     },
     "execution_count": 105,
     "metadata": {},
     "output_type": "execute_result"
    }
   ],
   "source": [
    "FE.size"
   ]
  },
  {
   "cell_type": "code",
   "execution_count": 106,
   "metadata": {},
   "outputs": [
    {
     "data": {
      "text/plain": [
       "Index(['Unique ID', 'Subject's name', 'Subject's age', 'Subject's gender',\n",
       "       'Subject's race', 'Subject's race with imputations',\n",
       "       'Imputation probability', 'URL of image of deceased',\n",
       "       'Date of injury resulting in death (month/day/year)',\n",
       "       'Location of injury (address)', 'Location of death (city)',\n",
       "       'Location of death (state)', 'Location of death (zip code)',\n",
       "       'Location of death (county)', 'Full Address', 'Latitude', 'Longitude',\n",
       "       'Agency responsible for death', 'Cause of death',\n",
       "       'A brief description of the circumstances surrounding the death',\n",
       "       'Dispositions/Exclusions INTERNAL USE, NOT FOR ANALYSIS',\n",
       "       'Link to news article or photo of official document',\n",
       "       'Symptoms of mental illness? INTERNAL USE, NOT FOR ANALYSIS', 'Video',\n",
       "       'Date&Description', 'Unique ID formula',\n",
       "       'Unique identifier (redundant)', 'Date (Year)'],\n",
       "      dtype='object')"
      ]
     },
     "execution_count": 106,
     "metadata": {},
     "output_type": "execute_result"
    }
   ],
   "source": [
    "FE.columns"
   ]
  },
  {
   "cell_type": "code",
   "execution_count": 107,
   "metadata": {},
   "outputs": [
    {
     "data": {
      "text/plain": [
       "Unique ID                                                         float64\n",
       "Subject's name                                                     object\n",
       "Subject's age                                                      object\n",
       "Subject's gender                                                   object\n",
       "Subject's race                                                     object\n",
       "Subject's race with imputations                                    object\n",
       "Imputation probability                                             object\n",
       "URL of image of deceased                                           object\n",
       "Date of injury resulting in death (month/day/year)                 object\n",
       "Location of injury (address)                                       object\n",
       "Location of death (city)                                           object\n",
       "Location of death (state)                                          object\n",
       "Location of death (zip code)                                      float64\n",
       "Location of death (county)                                         object\n",
       "Full Address                                                       object\n",
       "Latitude                                                          float64\n",
       "Longitude                                                         float64\n",
       "Agency responsible for death                                       object\n",
       "Cause of death                                                     object\n",
       "A brief description of the circumstances surrounding the death     object\n",
       "Dispositions/Exclusions INTERNAL USE, NOT FOR ANALYSIS             object\n",
       "Link to news article or photo of official document                 object\n",
       "Symptoms of mental illness? INTERNAL USE, NOT FOR ANALYSIS         object\n",
       "Video                                                              object\n",
       "Date&Description                                                   object\n",
       "Unique ID formula                                                 float64\n",
       "Unique identifier (redundant)                                     float64\n",
       "Date (Year)                                                        object\n",
       "dtype: object"
      ]
     },
     "execution_count": 107,
     "metadata": {},
     "output_type": "execute_result"
    }
   ],
   "source": [
    "FE.dtypes"
   ]
  },
  {
   "cell_type": "code",
   "execution_count": 161,
   "metadata": {},
   "outputs": [
    {
     "data": {
      "text/html": [
       "<div>\n",
       "<style scoped>\n",
       "    .dataframe tbody tr th:only-of-type {\n",
       "        vertical-align: middle;\n",
       "    }\n",
       "\n",
       "    .dataframe tbody tr th {\n",
       "        vertical-align: top;\n",
       "    }\n",
       "\n",
       "    .dataframe thead th {\n",
       "        text-align: right;\n",
       "    }\n",
       "</style>\n",
       "<table border=\"1\" class=\"dataframe\">\n",
       "  <thead>\n",
       "    <tr style=\"text-align: right;\">\n",
       "      <th></th>\n",
       "      <th>Unique ID</th>\n",
       "      <th>Subject's name</th>\n",
       "      <th>Subject's age</th>\n",
       "      <th>Subject's gender</th>\n",
       "      <th>Subject's race</th>\n",
       "      <th>Subject's race with imputations</th>\n",
       "      <th>Imputation probability</th>\n",
       "      <th>URL of image of deceased</th>\n",
       "      <th>Date of injury resulting in death (month/day/year)</th>\n",
       "      <th>Location of injury (address)</th>\n",
       "      <th>...</th>\n",
       "      <th>Cause of death</th>\n",
       "      <th>A brief description of the circumstances surrounding the death</th>\n",
       "      <th>Dispositions/Exclusions INTERNAL USE, NOT FOR ANALYSIS</th>\n",
       "      <th>Link to news article or photo of official document</th>\n",
       "      <th>Symptoms of mental illness? INTERNAL USE, NOT FOR ANALYSIS</th>\n",
       "      <th>Video</th>\n",
       "      <th>Date&amp;Description</th>\n",
       "      <th>Unique ID formula</th>\n",
       "      <th>Unique identifier (redundant)</th>\n",
       "      <th>Date (Year)</th>\n",
       "    </tr>\n",
       "  </thead>\n",
       "  <tbody>\n",
       "    <tr>\n",
       "      <th>0</th>\n",
       "      <td>25747.0</td>\n",
       "      <td>Mark A. Horton</td>\n",
       "      <td>21</td>\n",
       "      <td>Male</td>\n",
       "      <td>African-American/Black</td>\n",
       "      <td>African-American/Black</td>\n",
       "      <td>not imputed</td>\n",
       "      <td>NaN</td>\n",
       "      <td>01/01/2000</td>\n",
       "      <td>Davison Freeway</td>\n",
       "      <td>...</td>\n",
       "      <td>Vehicle</td>\n",
       "      <td>Two Detroit men killed when their car crashed ...</td>\n",
       "      <td>Unreported</td>\n",
       "      <td>https://drive.google.com/file/d/1-nK-RohgiM-tZ...</td>\n",
       "      <td>No</td>\n",
       "      <td>NaN</td>\n",
       "      <td>1/1/2000: Two Detroit men killed when their ca...</td>\n",
       "      <td>NaN</td>\n",
       "      <td>25747.0</td>\n",
       "      <td>2000</td>\n",
       "    </tr>\n",
       "    <tr>\n",
       "      <th>1</th>\n",
       "      <td>25748.0</td>\n",
       "      <td>Phillip A. Blurbridge</td>\n",
       "      <td>19</td>\n",
       "      <td>Male</td>\n",
       "      <td>African-American/Black</td>\n",
       "      <td>African-American/Black</td>\n",
       "      <td>not imputed</td>\n",
       "      <td>NaN</td>\n",
       "      <td>01/01/2000</td>\n",
       "      <td>Davison Freeway</td>\n",
       "      <td>...</td>\n",
       "      <td>Vehicle</td>\n",
       "      <td>Two Detroit men killed when their car crashed ...</td>\n",
       "      <td>Unreported</td>\n",
       "      <td>https://drive.google.com/file/d/1-nK-RohgiM-tZ...</td>\n",
       "      <td>No</td>\n",
       "      <td>NaN</td>\n",
       "      <td>1/1/2000: Two Detroit men killed when their ca...</td>\n",
       "      <td>NaN</td>\n",
       "      <td>25748.0</td>\n",
       "      <td>2000</td>\n",
       "    </tr>\n",
       "    <tr>\n",
       "      <th>2</th>\n",
       "      <td>25746.0</td>\n",
       "      <td>Samuel H. Knapp</td>\n",
       "      <td>17</td>\n",
       "      <td>Male</td>\n",
       "      <td>European-American/White</td>\n",
       "      <td>European-American/White</td>\n",
       "      <td>not imputed</td>\n",
       "      <td>NaN</td>\n",
       "      <td>01/01/2000</td>\n",
       "      <td>27898-27804 US-101</td>\n",
       "      <td>...</td>\n",
       "      <td>Vehicle</td>\n",
       "      <td>Samuel Knapp was allegedly driving a stolen ve...</td>\n",
       "      <td>Unreported</td>\n",
       "      <td>https://drive.google.com/file/d/10DisrV8K5ReP1...</td>\n",
       "      <td>No</td>\n",
       "      <td>NaN</td>\n",
       "      <td>1/1/2000: Samuel Knapp was allegedly driving a...</td>\n",
       "      <td>NaN</td>\n",
       "      <td>25746.0</td>\n",
       "      <td>2000</td>\n",
       "    </tr>\n",
       "    <tr>\n",
       "      <th>3</th>\n",
       "      <td>25749.0</td>\n",
       "      <td>Mark Ortiz</td>\n",
       "      <td>23</td>\n",
       "      <td>Male</td>\n",
       "      <td>Hispanic/Latino</td>\n",
       "      <td>Hispanic/Latino</td>\n",
       "      <td>not imputed</td>\n",
       "      <td>NaN</td>\n",
       "      <td>01/01/2000</td>\n",
       "      <td>600 W Cherry Ln</td>\n",
       "      <td>...</td>\n",
       "      <td>Vehicle</td>\n",
       "      <td>A motorcycle was allegedly being driven errati...</td>\n",
       "      <td>Unreported</td>\n",
       "      <td>https://drive.google.com/file/d/1qAEefRjX_aTtC...</td>\n",
       "      <td>No</td>\n",
       "      <td>NaN</td>\n",
       "      <td>1/1/2000: A motorcycle was allegedly being dri...</td>\n",
       "      <td>NaN</td>\n",
       "      <td>25749.0</td>\n",
       "      <td>2000</td>\n",
       "    </tr>\n",
       "    <tr>\n",
       "      <th>4</th>\n",
       "      <td>1.0</td>\n",
       "      <td>LaTanya Janelle McCoy</td>\n",
       "      <td>24</td>\n",
       "      <td>Female</td>\n",
       "      <td>African-American/Black</td>\n",
       "      <td>African-American/Black</td>\n",
       "      <td>not imputed</td>\n",
       "      <td>NaN</td>\n",
       "      <td>01/02/2000</td>\n",
       "      <td>5700 block Mack Road</td>\n",
       "      <td>...</td>\n",
       "      <td>Vehicle</td>\n",
       "      <td>LaTanya Janelle McCoy's car was struck from be...</td>\n",
       "      <td>Unknown</td>\n",
       "      <td>http://www.recordnet.com/article/20000110/A_NE...</td>\n",
       "      <td>No</td>\n",
       "      <td>NaN</td>\n",
       "      <td>1/2/2000: LaTanya Janelle McCoy's car was stru...</td>\n",
       "      <td>NaN</td>\n",
       "      <td>1.0</td>\n",
       "      <td>2000</td>\n",
       "    </tr>\n",
       "  </tbody>\n",
       "</table>\n",
       "<p>5 rows × 28 columns</p>\n",
       "</div>"
      ],
      "text/plain": [
       "   Unique ID         Subject's name Subject's age Subject's gender  \\\n",
       "0    25747.0         Mark A. Horton            21             Male   \n",
       "1    25748.0  Phillip A. Blurbridge            19             Male   \n",
       "2    25746.0        Samuel H. Knapp            17             Male   \n",
       "3    25749.0             Mark Ortiz            23             Male   \n",
       "4        1.0  LaTanya Janelle McCoy            24           Female   \n",
       "\n",
       "            Subject's race Subject's race with imputations  \\\n",
       "0   African-American/Black          African-American/Black   \n",
       "1   African-American/Black          African-American/Black   \n",
       "2  European-American/White         European-American/White   \n",
       "3          Hispanic/Latino                 Hispanic/Latino   \n",
       "4   African-American/Black          African-American/Black   \n",
       "\n",
       "  Imputation probability URL of image of deceased  \\\n",
       "0            not imputed                      NaN   \n",
       "1            not imputed                      NaN   \n",
       "2            not imputed                      NaN   \n",
       "3            not imputed                      NaN   \n",
       "4            not imputed                      NaN   \n",
       "\n",
       "  Date of injury resulting in death (month/day/year)  \\\n",
       "0                                         01/01/2000   \n",
       "1                                         01/01/2000   \n",
       "2                                         01/01/2000   \n",
       "3                                         01/01/2000   \n",
       "4                                         01/02/2000   \n",
       "\n",
       "  Location of injury (address)     ...     Cause of death  \\\n",
       "0              Davison Freeway     ...            Vehicle   \n",
       "1              Davison Freeway     ...            Vehicle   \n",
       "2           27898-27804 US-101     ...            Vehicle   \n",
       "3              600 W Cherry Ln     ...            Vehicle   \n",
       "4         5700 block Mack Road     ...            Vehicle   \n",
       "\n",
       "  A brief description of the circumstances surrounding the death  \\\n",
       "0  Two Detroit men killed when their car crashed ...               \n",
       "1  Two Detroit men killed when their car crashed ...               \n",
       "2  Samuel Knapp was allegedly driving a stolen ve...               \n",
       "3  A motorcycle was allegedly being driven errati...               \n",
       "4  LaTanya Janelle McCoy's car was struck from be...               \n",
       "\n",
       "   Dispositions/Exclusions INTERNAL USE, NOT FOR ANALYSIS  \\\n",
       "0                                         Unreported        \n",
       "1                                         Unreported        \n",
       "2                                         Unreported        \n",
       "3                                         Unreported        \n",
       "4                                            Unknown        \n",
       "\n",
       "  Link to news article or photo of official document  \\\n",
       "0  https://drive.google.com/file/d/1-nK-RohgiM-tZ...   \n",
       "1  https://drive.google.com/file/d/1-nK-RohgiM-tZ...   \n",
       "2  https://drive.google.com/file/d/10DisrV8K5ReP1...   \n",
       "3  https://drive.google.com/file/d/1qAEefRjX_aTtC...   \n",
       "4  http://www.recordnet.com/article/20000110/A_NE...   \n",
       "\n",
       "  Symptoms of mental illness? INTERNAL USE, NOT FOR ANALYSIS  Video  \\\n",
       "0                                                 No            NaN   \n",
       "1                                                 No            NaN   \n",
       "2                                                 No            NaN   \n",
       "3                                                 No            NaN   \n",
       "4                                                 No            NaN   \n",
       "\n",
       "                                    Date&Description Unique ID formula  \\\n",
       "0  1/1/2000: Two Detroit men killed when their ca...               NaN   \n",
       "1  1/1/2000: Two Detroit men killed when their ca...               NaN   \n",
       "2  1/1/2000: Samuel Knapp was allegedly driving a...               NaN   \n",
       "3  1/1/2000: A motorcycle was allegedly being dri...               NaN   \n",
       "4  1/2/2000: LaTanya Janelle McCoy's car was stru...               NaN   \n",
       "\n",
       "  Unique identifier (redundant) Date (Year)  \n",
       "0                       25747.0        2000  \n",
       "1                       25748.0        2000  \n",
       "2                       25746.0        2000  \n",
       "3                       25749.0        2000  \n",
       "4                           1.0        2000  \n",
       "\n",
       "[5 rows x 28 columns]"
      ]
     },
     "execution_count": 161,
     "metadata": {},
     "output_type": "execute_result"
    }
   ],
   "source": [
    "FE.head()"
   ]
  },
  {
   "cell_type": "code",
   "execution_count": 109,
   "metadata": {},
   "outputs": [
    {
     "data": {
      "text/plain": [
       "22    908\n",
       "25    884\n",
       "24    856\n",
       "23    840\n",
       "27    839\n",
       "Name: Subject's age, dtype: int64"
      ]
     },
     "execution_count": 109,
     "metadata": {},
     "output_type": "execute_result"
    }
   ],
   "source": [
    "FE_age = FE[\"Subject's age\"].value_counts()\n",
    "FE_age"
   ]
  },
  {
   "cell_type": "code",
   "execution_count": 110,
   "metadata": {},
   "outputs": [
    {
     "data": {
      "text/plain": [
       "Male           25432\n",
       "Female          2664\n",
       "Transgender       15\n",
       "White              1\n",
       "Transexual         1\n",
       "Name: Subject's gender, dtype: int64"
      ]
     },
     "execution_count": 110,
     "metadata": {},
     "output_type": "execute_result"
    }
   ],
   "source": [
    "FE_sex = FE[\"Subject's gender\"].value_counts()\n",
    "FE_sex"
   ]
  },
  {
   "cell_type": "code",
   "execution_count": 121,
   "metadata": {},
   "outputs": [
    {
     "data": {
      "text/plain": [
       "Text(0.5,1,'Frequency of Police Fatalities by Gender')"
      ]
     },
     "execution_count": 121,
     "metadata": {},
     "output_type": "execute_result"
    },
    {
     "data": {
      "image/png": "[encoded data removed]",
      "text/plain": [
       "<Figure size 432x288 with 1 Axes>"
      ]
     },
     "metadata": {},
     "output_type": "display_data"
    }
   ],
   "source": [
    "# This is a bar graph for victims' sex\n",
    "FE_sex = [\"Male\", \"Female\", \"Transgender\"]\n",
    "FE_sex_num = [25432, 2665, 16]\n",
    "\n",
    "plt.bar(FE_sex, FE_sex_num)\n",
    "plt.xlabel(\"Gender\")\n",
    "plt.ylabel('Frequency')\n",
    "plt.title('Frequency of Police Fatalities by Gender')\n",
    "#plt.xticks(rotation=30)"
   ]
  },
  {
   "cell_type": "code",
   "execution_count": 129,
   "metadata": {},
   "outputs": [
    {
     "data": {
      "image/png": "[encoded data removed]",
      "text/plain": [
       "<Figure size 432x288 with 1 Axes>"
      ]
     },
     "metadata": {},
     "output_type": "display_data"
    }
   ],
   "source": [
    "labels = \"Male\", \"Female\", \"Transgender\"\n",
    "sizes = [0.9046, 0.0947, 0.0005]\n",
    "\n",
    "fig1, ax1 = plt.subplots()\n",
    "ax1.pie(sizes, autopct='%1.1f%%',\n",
    "        shadow=True, startangle=90)\n",
    "ax1.axis('equal')  # Equal aspect ratio ensures that pie is drawn as a circle.\n",
    "plt.legend(labels, loc='best', bbox_to_anchor=(-0.1, 1.),\n",
    "           fontsize=12)\n",
    "plt.show()"
   ]
  },
  {
   "cell_type": "code",
   "execution_count": 111,
   "metadata": {},
   "outputs": [
    {
     "data": {
      "text/html": [
       "<div>\n",
       "<style scoped>\n",
       "    .dataframe tbody tr th:only-of-type {\n",
       "        vertical-align: middle;\n",
       "    }\n",
       "\n",
       "    .dataframe tbody tr th {\n",
       "        vertical-align: top;\n",
       "    }\n",
       "\n",
       "    .dataframe thead th {\n",
       "        text-align: right;\n",
       "    }\n",
       "</style>\n",
       "<table border=\"1\" class=\"dataframe\">\n",
       "  <thead>\n",
       "    <tr style=\"text-align: right;\">\n",
       "      <th></th>\n",
       "      <th>Unique ID</th>\n",
       "      <th>Subject's name</th>\n",
       "      <th>Subject's age</th>\n",
       "      <th>Subject's gender</th>\n",
       "      <th>Subject's race</th>\n",
       "      <th>Subject's race with imputations</th>\n",
       "      <th>Imputation probability</th>\n",
       "      <th>URL of image of deceased</th>\n",
       "      <th>Date of injury resulting in death (month/day/year)</th>\n",
       "      <th>Location of injury (address)</th>\n",
       "      <th>...</th>\n",
       "      <th>Cause of death</th>\n",
       "      <th>A brief description of the circumstances surrounding the death</th>\n",
       "      <th>Dispositions/Exclusions INTERNAL USE, NOT FOR ANALYSIS</th>\n",
       "      <th>Link to news article or photo of official document</th>\n",
       "      <th>Symptoms of mental illness? INTERNAL USE, NOT FOR ANALYSIS</th>\n",
       "      <th>Video</th>\n",
       "      <th>Date&amp;Description</th>\n",
       "      <th>Unique ID formula</th>\n",
       "      <th>Unique identifier (redundant)</th>\n",
       "      <th>Date (Year)</th>\n",
       "    </tr>\n",
       "  </thead>\n",
       "  <tbody>\n",
       "    <tr>\n",
       "      <th>24780</th>\n",
       "      <td>24824.0</td>\n",
       "      <td>Brooke Lyn Maynard</td>\n",
       "      <td>24</td>\n",
       "      <td>White</td>\n",
       "      <td>European-American/White</td>\n",
       "      <td>European-American/White</td>\n",
       "      <td>not imputed</td>\n",
       "      <td>NaN</td>\n",
       "      <td>08/02/2018</td>\n",
       "      <td>W Club Blvd &amp; N Duke St</td>\n",
       "      <td>...</td>\n",
       "      <td>Vehicle</td>\n",
       "      <td>Police tried to stop a Honda Accord that was s...</td>\n",
       "      <td>Criminal</td>\n",
       "      <td>http://spectrumlocalnews.com/nc/triangle-sandh...</td>\n",
       "      <td>No</td>\n",
       "      <td>NaN</td>\n",
       "      <td>8/2/2018: Police tried to stop a Honda Accord ...</td>\n",
       "      <td>NaN</td>\n",
       "      <td>24824.0</td>\n",
       "      <td>2018</td>\n",
       "    </tr>\n",
       "  </tbody>\n",
       "</table>\n",
       "<p>1 rows × 28 columns</p>\n",
       "</div>"
      ],
      "text/plain": [
       "       Unique ID      Subject's name Subject's age Subject's gender  \\\n",
       "24780    24824.0  Brooke Lyn Maynard            24            White   \n",
       "\n",
       "                Subject's race Subject's race with imputations  \\\n",
       "24780  European-American/White         European-American/White   \n",
       "\n",
       "      Imputation probability URL of image of deceased  \\\n",
       "24780            not imputed                      NaN   \n",
       "\n",
       "      Date of injury resulting in death (month/day/year)  \\\n",
       "24780                                         08/02/2018   \n",
       "\n",
       "      Location of injury (address)     ...     Cause of death  \\\n",
       "24780      W Club Blvd & N Duke St     ...            Vehicle   \n",
       "\n",
       "      A brief description of the circumstances surrounding the death  \\\n",
       "24780  Police tried to stop a Honda Accord that was s...               \n",
       "\n",
       "       Dispositions/Exclusions INTERNAL USE, NOT FOR ANALYSIS  \\\n",
       "24780                                           Criminal        \n",
       "\n",
       "      Link to news article or photo of official document  \\\n",
       "24780  http://spectrumlocalnews.com/nc/triangle-sandh...   \n",
       "\n",
       "      Symptoms of mental illness? INTERNAL USE, NOT FOR ANALYSIS  Video  \\\n",
       "24780                                                 No            NaN   \n",
       "\n",
       "                                        Date&Description Unique ID formula  \\\n",
       "24780  8/2/2018: Police tried to stop a Honda Accord ...               NaN   \n",
       "\n",
       "      Unique identifier (redundant) Date (Year)  \n",
       "24780                       24824.0        2018  \n",
       "\n",
       "[1 rows x 28 columns]"
      ]
     },
     "execution_count": 111,
     "metadata": {},
     "output_type": "execute_result"
    }
   ],
   "source": [
    "FE[FE[\"Subject's gender\"] == \"White\"] # This has been reported to Fatal Encounters. For now, Brooke will be considered female."
   ]
  },
  {
   "cell_type": "code",
   "execution_count": 112,
   "metadata": {},
   "outputs": [
    {
     "data": {
      "text/plain": [
       "European-American/White    9099\n",
       "Race unspecified           8750\n",
       "African-American/Black     5988\n",
       "Hispanic/Latino            3620\n",
       "Asian/Pacific Islander      424\n",
       "Native American/Alaskan     280\n",
       "Middle Eastern               48\n",
       "HIspanic/Latino               1\n",
       "Name: Subject's race, dtype: int64"
      ]
     },
     "execution_count": 112,
     "metadata": {},
     "output_type": "execute_result"
    }
   ],
   "source": [
    "FE_race = FE[\"Subject's race\"].value_counts()\n",
    "FE_race\n",
    "28210"
   ]
  },
  {
   "cell_type": "code",
   "execution_count": 135,
   "metadata": {},
   "outputs": [
    {
     "data": {
      "text/plain": [
       "([0, 1, 2, 3, 4, 5, 6], <a list of 7 Text xticklabel objects>)"
      ]
     },
     "execution_count": 135,
     "metadata": {},
     "output_type": "execute_result"
    },
    {
     "data": {
      "image/png": "[encoded data removed]",
      "text/plain": [
       "<Figure size 432x288 with 1 Axes>"
      ]
     },
     "metadata": {},
     "output_type": "display_data"
    }
   ],
   "source": [
    "# This is a bar graph for victims' by race\n",
    "FE_race = [\"European-American/White\", \"Race unspecified\", \"African-American/Black\", \"Hispanic/Latino\", \\\n",
    "           \"Asian/Pacific Islander\", \"Native American/Alaskan\", \"Middle Eastern\"]\n",
    "FE_race_num = [9099, 8750, 5988, 3621, 424, 280, 48]\n",
    "\n",
    "plt.bar(FE_race, FE_race_num)\n",
    "plt.xlabel(\"Race\")\n",
    "plt.ylabel('Frequency')\n",
    "plt.title('Frequency of Police Fatalities by Race')\n",
    "plt.xticks(rotation=90)"
   ]
  },
  {
   "cell_type": "code",
   "execution_count": 140,
   "metadata": {},
   "outputs": [
    {
     "data": {
      "image/png": "[encoded data removed]",
      "text/plain": [
       "<Figure size 432x288 with 1 Axes>"
      ]
     },
     "metadata": {},
     "output_type": "display_data"
    }
   ],
   "source": [
    "labels = \"European-American/White\", \"Race unspecified\", \"African-American/Black\", \"Hispanic/Latino\", \\\n",
    "           \"Asian/Pacific Islander\", \"Native American/Alaskan\", \"Middle Eastern\"\n",
    "sizes = [0.322545197, 0.310173697, 0.212265154, 0.128358738, 0.015030131, 0.009925558, 0.001701524]\n",
    "\n",
    "fig1, ax1 = plt.subplots()\n",
    "ax1.pie(sizes, autopct='%1.1f%%',\n",
    "        shadow=True, startangle=90)\n",
    "ax1.axis('equal')  # Equal aspect ratio ensures that pie is drawn as a circle.\n",
    "plt.legend(labels, loc='best', bbox_to_anchor=(-0.1, 1.),\n",
    "           fontsize=12)\n",
    "plt.title(\"Police Fatalities by Race\")\n",
    "plt.show()"
   ]
  },
  {
   "cell_type": "code",
   "execution_count": 113,
   "metadata": {},
   "outputs": [
    {
     "data": {
      "text/plain": [
       "European-American/White    13363\n",
       "African-American/Black      7637\n",
       "Hispanic/Latino             4563\n",
       "Race unspecified            1376\n",
       "Asian/Pacific Islander       521\n",
       "Native American/Alaskan      275\n",
       "Middle Eastern                48\n",
       "Other Race                     9\n",
       "European American/White        5\n",
       "HIspanic/Latino                1\n",
       "Name: Subject's race with imputations, dtype: int64"
      ]
     },
     "execution_count": 113,
     "metadata": {},
     "output_type": "execute_result"
    }
   ],
   "source": [
    "FE_race_imp = FE[\"Subject's race with imputations\"].value_counts()\n",
    "FE_race_imp"
   ]
  },
  {
   "cell_type": "code",
   "execution_count": 160,
   "metadata": {},
   "outputs": [
    {
     "data": {
      "text/plain": [
       "([0, 1, 2, 3, 4, 5, 6, 7], <a list of 8 Text xticklabel objects>)"
      ]
     },
     "execution_count": 160,
     "metadata": {},
     "output_type": "execute_result"
    },
    {
     "data": {
      "image/png": "[encoded data removed]",
      "text/plain": [
       "<Figure size 432x288 with 1 Axes>"
      ]
     },
     "metadata": {},
     "output_type": "display_data"
    }
   ],
   "source": [
    "# This is a bar graph for victims' by race with imputations\n",
    "FE_race_imp = [\"European-American/White\", \"African-American/Black\", \"Hispanic/Latino\", \"Race unspecified\", \\\n",
    "           \"Asian/Pacific Islander\", \"Native American/Alaskan\", \"Middle Eastern\", \"Other Race\"]\n",
    "FE_race_imp_num = [13368, 7637, 4564, 1376, 521, 275, 48, 9]\n",
    "\n",
    "plt.bar(FE_race_imp, FE_race_imp_num)\n",
    "plt.xlabel(\"Race with Imputations\")\n",
    "plt.ylabel('Frequency')\n",
    "plt.title('Frequency of Police Fatalities by Race with Imputations')\n",
    "plt.xticks(rotation=90)"
   ]
  },
  {
   "cell_type": "code",
   "execution_count": 151,
   "metadata": {},
   "outputs": [
    {
     "data": {
      "text/plain": [
       "Chicago          447\n",
       "Houston          440\n",
       "Los Angeles      406\n",
       "Phoenix          247\n",
       "San Antonio      230\n",
       "Philadelphia     230\n",
       "Kansas City      223\n",
       "St. Louis        208\n",
       "Las Vegas        196\n",
       "Dallas           188\n",
       "Detroit          173\n",
       "Columbus         165\n",
       "Oklahoma City    156\n",
       "Albuquerque      151\n",
       "Jacksonville     150\n",
       "Baltimore        147\n",
       "Atlanta          145\n",
       "Miami            140\n",
       "Fresno           134\n",
       "Tucson           133\n",
       "Name: Location of death (city), dtype: int64"
      ]
     },
     "execution_count": 151,
     "metadata": {},
     "output_type": "execute_result"
    }
   ],
   "source": [
    "FE_city = FE[\"Location of death (city)\"].value_counts().head(20)\n",
    "FE_city "
   ]
  },
  {
   "cell_type": "code",
   "execution_count": 153,
   "metadata": {},
   "outputs": [
    {
     "data": {
      "text/plain": [
       "([0, 1, 2, 3, 4, 5, 6, 7, 8, 9, 10, 11, 12, 13, 14, 15, 16, 17, 18, 19],\n",
       " <a list of 20 Text xticklabel objects>)"
      ]
     },
     "execution_count": 153,
     "metadata": {},
     "output_type": "execute_result"
    },
    {
     "data": {
      "image/png": "[encoded data removed]",
      "text/plain": [
       "<Figure size 432x288 with 1 Axes>"
      ]
     },
     "metadata": {},
     "output_type": "display_data"
    }
   ],
   "source": [
    "FE_city = [\"Chicago\", \"Houston\", \"Los Angeles\", \"Phoenix\", \"San Antonio\", \"Philadephia\", \"Kansas City\", \"St. Louis\", \\\n",
    "           \"Las Vegas\", \"Dallas\", \"Detroit\", \"Columbus\", \"Oklahoma City\", \"Albuquerque\", \"Jacksonville\", \"Baltimore\", \\\n",
    "           \"Atlanta\", \"Miami\", \"Fresno\", \"Tuscon\"]\n",
    "FE_city_num = [447, 440, 406, 247, 230, 230, 223, 208, 196, 188, 173, 165, 156, 151, 150, 147, 145, 140, 134, 133]\n",
    "\n",
    "plt.bar(FE_city, FE_city_num)\n",
    "plt.xlabel(\"City\")\n",
    "plt.ylabel('Frequency')\n",
    "plt.title('Frequency of Police Fatalities by City')\n",
    "plt.xticks(rotation=90)"
   ]
  },
  {
   "cell_type": "code",
   "execution_count": 150,
   "metadata": {},
   "outputs": [
    {
     "data": {
      "text/plain": [
       "CA    4532\n",
       "TX    2485\n",
       "FL    1699\n",
       "GA    1059\n",
       "IL    1033\n",
       "OH     926\n",
       "PA     915\n",
       "MO     870\n",
       "MI     833\n",
       "AZ     820\n",
       "OK     653\n",
       "NY     642\n",
       "AL     627\n",
       "CO     616\n",
       "WA     610\n",
       "TN     605\n",
       "LA     590\n",
       "NC     586\n",
       "VA     584\n",
       "SC     535\n",
       "Name: Location of death (state), dtype: int64"
      ]
     },
     "execution_count": 150,
     "metadata": {},
     "output_type": "execute_result"
    }
   ],
   "source": [
    "FE_state = FE[\"Location of death (state)\"].value_counts().head(20)\n",
    "FE_state"
   ]
  },
  {
   "cell_type": "code",
   "execution_count": 154,
   "metadata": {},
   "outputs": [
    {
     "data": {
      "text/plain": [
       "([0, 1, 2, 3, 4, 5, 6, 7, 8, 9, 10, 11, 12, 13, 14, 15, 16, 17, 18, 19],\n",
       " <a list of 20 Text xticklabel objects>)"
      ]
     },
     "execution_count": 154,
     "metadata": {},
     "output_type": "execute_result"
    },
    {
     "data": {
      "image/png": "[encoded data removed]",
      "text/plain": [
       "<Figure size 432x288 with 1 Axes>"
      ]
     },
     "metadata": {},
     "output_type": "display_data"
    }
   ],
   "source": [
    "FE_state = [\"CA\", \"TX\", \"FL\", \"GA\", \"IL\", \"OH\", \"PA\", \"MO\", \"MI\", \"AZ\", \"OK\", \"NY\", \"AL\", \"CO\", \"WA\", \"TN\", \"LA\", \"NC\", \"VA\", \"SC\"]\n",
    "FE_state_num = [4532, 2485, 1699, 1059, 1033, 926, 915, 870, 833, 820, 653, 642, 627, 616, 610, 605, 590, 586, 584, 535]\n",
    "\n",
    "plt.bar(FE_state, FE_state_num)\n",
    "plt.xlabel(\"State\")\n",
    "plt.ylabel('Frequency')\n",
    "plt.title('Frequency of Police Fatalities by State')\n",
    "plt.xticks(rotation=90)"
   ]
  },
  {
   "cell_type": "code",
   "execution_count": 155,
   "metadata": {},
   "outputs": [
    {
     "data": {
      "text/plain": [
       "60620.0    32\n",
       "60616.0    32\n",
       "60628.0    32\n",
       "93307.0    27\n",
       "33311.0    25\n",
       "60624.0    24\n",
       "60637.0    24\n",
       "90221.0    24\n",
       "60623.0    22\n",
       "90003.0    22\n",
       "Name: Location of death (zip code), dtype: int64"
      ]
     },
     "execution_count": 155,
     "metadata": {},
     "output_type": "execute_result"
    }
   ],
   "source": [
    "FE_zip = FE[\"Location of death (zip code)\"].value_counts().head(10)\n",
    "FE_zip"
   ]
  },
  {
   "cell_type": "code",
   "execution_count": null,
   "metadata": {},
   "outputs": [],
   "source": []
  },
  {
   "cell_type": "code",
   "execution_count": 144,
   "metadata": {},
   "outputs": [
    {
     "data": {
      "text/plain": [
       "Los Angeles       1213\n",
       "Cook               598\n",
       "Harris             550\n",
       "Maricopa           469\n",
       "Orange             431\n",
       "Jefferson          380\n",
       "San Diego          338\n",
       "San Bernardino     328\n",
       "Clark              318\n",
       "Jackson            292\n",
       "Wayne              287\n",
       "Dallas             283\n",
       "Riverside          279\n",
       "Montgomery         247\n",
       "Bexar              243\n",
       "Philadelphia       231\n",
       "Franklin           228\n",
       "Alameda            228\n",
       "Miami-Dade         227\n",
       "Marion             196\n",
       "Name: Location of death (county), dtype: int64"
      ]
     },
     "execution_count": 144,
     "metadata": {},
     "output_type": "execute_result"
    }
   ],
   "source": [
    "FE_county = FE[\"Location of death (county)\"].value_counts().head(20)\n",
    "FE_county"
   ]
  },
  {
   "cell_type": "code",
   "execution_count": 158,
   "metadata": {},
   "outputs": [
    {
     "data": {
      "text/plain": [
       "([0, 1, 2, 3, 4, 5, 6, 7, 8, 9, 10, 11, 12, 13, 14, 15, 16, 17, 18, 19],\n",
       " <a list of 20 Text xticklabel objects>)"
      ]
     },
     "execution_count": 158,
     "metadata": {},
     "output_type": "execute_result"
    },
    {
     "data": {
      "image/png": "[encoded data removed]",
      "text/plain": [
       "<Figure size 432x288 with 1 Axes>"
      ]
     },
     "metadata": {},
     "output_type": "display_data"
    }
   ],
   "source": [
    "FE_county = [\"Los Angeles\", \"Cook\", \"Harris\", \"Maricopa\", \"Orange\", \"Jefferson\", \"San Diego\", \"San Bernardino\", \\\n",
    "             \"Clark\", \"Jackson\", \"Wayne\", \"Dallas\", \"Riverside\", \"Montgomery\", \"Bexar\", \"Philadelphia\", \"Franklin\", \\\n",
    "             \"Alameda\", \"Miami-Dade\", \"Marion\"]\n",
    "FE_county_num = [1213, 598, 550, 469, 431, 380, 338, 328, 318, 292, 287, 283, 279, 247, 243, 231, 228, 228, 227, 196]\n",
    "\n",
    "plt.bar(FE_county, FE_county_num)\n",
    "plt.xlabel(\"County\")\n",
    "plt.ylabel('Frequency')\n",
    "plt.title('Frequency of Police Fatalities by County')\n",
    "plt.xticks(rotation=90)"
   ]
  },
  {
   "cell_type": "code",
   "execution_count": 145,
   "metadata": {},
   "outputs": [
    {
     "data": {
      "text/plain": [
       "Los Angeles Police Department               468\n",
       "Chicago Police Department                   423\n",
       "Los Angeles County Sheriff's Department     344\n",
       "City of New York Police Department          326\n",
       "Houston Police Department                   310\n",
       "California Highway Patrol                   265\n",
       "Phoenix Police Department                   229\n",
       "Philadelphia Police Department              207\n",
       "Pennsylvania State Police                   190\n",
       "San Antonio Police Department               189\n",
       "Las Vegas Metropolitan Police Department    186\n",
       "Kansas City Police Department               168\n",
       "Dallas Police Department                    155\n",
       "St. Louis Metropolitan Police Department    148\n",
       "Oklahoma City Police Department             139\n",
       "Miami-Dade Police Department                136\n",
       "Baltimore Police Department                 128\n",
       "Jacksonville Sheriff's Office               124\n",
       "Detroit Police Department                   121\n",
       "San Bernardino County Sheriff's Office      119\n",
       "Name: Agency responsible for death, dtype: int64"
      ]
     },
     "execution_count": 145,
     "metadata": {},
     "output_type": "execute_result"
    }
   ],
   "source": [
    "FE_agency = FE[\"Agency responsible for death\"].value_counts().head(20)\n",
    "FE_agency"
   ]
  },
  {
   "cell_type": "code",
   "execution_count": 159,
   "metadata": {},
   "outputs": [
    {
     "data": {
      "text/plain": [
       "([0, 1, 2, 3, 4, 5, 6, 7, 8, 9, 10, 11, 12, 13, 14, 15, 16, 17, 18, 19],\n",
       " <a list of 20 Text xticklabel objects>)"
      ]
     },
     "execution_count": 159,
     "metadata": {},
     "output_type": "execute_result"
    },
    {
     "data": {
      "image/png": "[encoded data removed]",
      "text/plain": [
       "<Figure size 432x288 with 1 Axes>"
      ]
     },
     "metadata": {},
     "output_type": "display_data"
    }
   ],
   "source": [
    "FE_agency = [\"Los Angeles Police Department\", \"Chicago Police Department\", \"Los Angeles County Sheriff's Department\", \\\n",
    "             \"City of New York Police Department\", \"Houston Police Department\", \"California Highway Patrol\", \\\n",
    "             \"Phoenix Police Department\", \"Philadelphia Police Department\", \"Pennsylvania State Police\", \\\n",
    "             \"San Antonio Police Department\", \"Las Vegas Metropolitan Police Department\", \"Kansas City Police Department\", \\\n",
    "             \"Dallas Police Department\", \"St. Louis Metropolitan Police Department\", \"Oklahoma City Police Department\", \\\n",
    "             \"Miami-Dade Police Department\", \"Baltimore Police Department\", \"Jacksonville Sheriff's Office\", \\\n",
    "             \"Detroit Police Department\", \"San Bernardino County Sheriff's Office\"]\n",
    "FE_agency_num = [468, 423, 344, 326, 310, 265, 229, 207, 190, 189, 186, 168, 155, 148, 139, 136, 128, 124, 121, 119]\n",
    "\n",
    "plt.bar(FE_agency, FE_agency_num)\n",
    "plt.xlabel(\"Agency\")\n",
    "plt.ylabel('Frequency')\n",
    "plt.title('Frequency of Police Fatalities by Agency')\n",
    "plt.xticks(rotation=90)"
   ]
  },
  {
   "cell_type": "code",
   "execution_count": 119,
   "metadata": {},
   "outputs": [
    {
     "data": {
      "text/plain": [
       "Gunshot                              20030\n",
       "Vehicle                               5765\n",
       "Tasered                                906\n",
       "Medical emergency                      378\n",
       "Asphyxiated/Restrained                 267\n",
       "Beaten/Bludgeoned with instrument      174\n",
       "Drug overdose                          173\n",
       "Drowned                                170\n",
       "Undetermined                            99\n",
       "Fell from a height                      73\n",
       "Other                                   57\n",
       "Stabbed                                 48\n",
       "Burned/Smoke inhalation                 35\n",
       "Chemical agent/Pepper spray             34\n",
       "Unknown                                  1\n",
       "Name: Cause of death, dtype: int64"
      ]
     },
     "execution_count": 119,
     "metadata": {},
     "output_type": "execute_result"
    }
   ],
   "source": [
    "FE_cause = FE[\"Cause of death\"].value_counts()\n",
    "FE_cause"
   ]
  },
  {
   "cell_type": "code",
   "execution_count": 149,
   "metadata": {},
   "outputs": [
    {
     "data": {
      "text/plain": [
       "([0, 1, 2, 3, 4, 5, 6, 7, 8, 9, 10, 11, 12, 13, 14],\n",
       " <a list of 15 Text xticklabel objects>)"
      ]
     },
     "execution_count": 149,
     "metadata": {},
     "output_type": "execute_result"
    },
    {
     "data": {
      "image/png": "[encoded data removed]",
      "text/plain": [
       "<Figure size 432x288 with 1 Axes>"
      ]
     },
     "metadata": {},
     "output_type": "display_data"
    }
   ],
   "source": [
    "FE_cause = [\"Gunshot\", \"Vehicle\", \"Tasered\", \"Medical emergency\", \"Asphyxiated/Restrained\", \"Beaten/Bludgeoned with instrument\", \\\n",
    "           \"Drug overdose\", \"Drowned\", \"Undetermined\", \"Fell from a height\", \"Other\", \"Stabbed\", \"Burned/Smoke inhalation\", \\\n",
    "           \"Chemical agent/Pepper spray\", \"Unknown\"]\n",
    "FE_cause_num = [20030, 5765, 906, 378, 267, 174, 173, 170, 99, 73, 57, 48, 35, 34, 1]\n",
    "\n",
    "plt.bar(FE_cause, FE_cause_num)\n",
    "plt.xlabel(\"Cause of Death\")\n",
    "plt.ylabel('Frequency')\n",
    "plt.title('Frequency of Police Fatalities by Cause of Death')\n",
    "plt.xticks(rotation=90)"
   ]
  },
  {
   "cell_type": "code",
   "execution_count": 162,
   "metadata": {},
   "outputs": [
    {
     "data": {
      "text/plain": [
       "2018       1846\n",
       "2019       1795\n",
       "2013       1782\n",
       "2017       1767\n",
       "2014       1716\n",
       "2015       1607\n",
       "2016       1595\n",
       "2012       1486\n",
       "2011       1408\n",
       "2010       1291\n",
       "2006       1269\n",
       "2009       1257\n",
       "2007       1256\n",
       "2008       1209\n",
       "2005       1171\n",
       "2003       1052\n",
       "2004       1037\n",
       "2002        986\n",
       "2001        923\n",
       "2020        898\n",
       "2000        851\n",
       "#REF!         7\n",
       "#VALUE!       1\n",
       "2100          1\n",
       "Name: Date (Year), dtype: int64"
      ]
     },
     "execution_count": 162,
     "metadata": {},
     "output_type": "execute_result"
    }
   ],
   "source": [
    "FE[\"Date (Year)\"].value_counts()"
   ]
  },
  {
   "cell_type": "code",
   "execution_count": 163,
   "metadata": {},
   "outputs": [
    {
     "data": {
      "text/plain": [
       "([0, 1, 2, 3, 4, 5, 6, 7, 8, 9, 10, 11, 12, 13, 14, 15, 16, 17, 18, 19, 20],\n",
       " <a list of 21 Text xticklabel objects>)"
      ]
     },
     "execution_count": 163,
     "metadata": {},
     "output_type": "execute_result"
    },
    {
     "data": {
      "image/png": "[encoded data removed]",
      "text/plain": [
       "<Figure size 432x288 with 1 Axes>"
      ]
     },
     "metadata": {},
     "output_type": "display_data"
    }
   ],
   "source": [
    "FE_year_ordered = [\"2000\", \"2001\", \"2002\", \"2003\", \"2004\", \"2005\", \"2006\", \"2007\", \"2008\", \"2009\", \"2010\", \"2011\", \"2012\", \\\n",
    "                   \"2013\", \"2014\", \"2015\", \"2016\", \"2017\", \"2018\", \"2019\", \"2020\"]\n",
    "FE_year_ordered_num = [851, 923, 986, 1052, 1037, 1171, 1269, 1256, 1209, 1257, 1291, 1408, 1486, 1782, 1716, 1607, 1595, 1767, \\\n",
    "                       1846, 1795, 898]\n",
    "\n",
    "plt.bar(FE_year_ordered, FE_year_ordered_num)\n",
    "plt.xlabel(\"Year\")\n",
    "plt.ylabel('Frequency')\n",
    "plt.title('Frequency of Police Fatalities by Year')\n",
    "plt.xticks(rotation=90)"
   ]
  },
  {
   "cell_type": "code",
   "execution_count": null,
   "metadata": {},
   "outputs": [],
   "source": []
  }
 ],
 "metadata": {
  "kernelspec": {
   "display_name": "Python 3",
   "language": "python",
   "name": "python3"
  },
  "language_info": {
   "codemirror_mode": {
    "name": "ipython",
    "version": 3
   },
   "file_extension": ".py",
   "mimetype": "text/x-python",
   "name": "python",
   "nbconvert_exporter": "python",
   "pygments_lexer": "ipython3",
   "version": "3.6.5"
  }
 },
 "nbformat": 4,
 "nbformat_minor": 2
}
